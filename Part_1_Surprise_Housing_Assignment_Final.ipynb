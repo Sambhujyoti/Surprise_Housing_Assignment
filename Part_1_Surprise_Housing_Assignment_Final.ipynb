{
 "cells": [
  {
   "cell_type": "markdown",
   "id": "b066d4c7",
   "metadata": {},
   "source": [
    "# Surprise Housing Assignment\n",
    "\n",
    "               Prepared by - Sambhujyoti Das\n",
    "___"
   ]
  },
  {
   "cell_type": "markdown",
   "id": "50a197b7",
   "metadata": {},
   "source": [
    "The assignment is divided into the following sections:\n",
    "- Data understanding and exploration\n",
    "- Data cleaning\n",
    "- Data preparation\n",
    "- Model building and evaluation"
   ]
  },
  {
   "cell_type": "markdown",
   "id": "456bec19",
   "metadata": {},
   "source": [
    "### 1. Data Understanding and Exploration"
   ]
  },
  {
   "cell_type": "code",
   "execution_count": 1,
   "id": "c3b8dba1",
   "metadata": {},
   "outputs": [],
   "source": [
    "# Importing necessary libraries\n",
    "\n",
    "import numpy as np, pandas as pd\n",
    "import matplotlib.pyplot as plt, seaborn as sns\n",
    "\n",
    "from sklearn import linear_model, metrics\n",
    "from sklearn.linear_model import LinearRegression\n",
    "from sklearn.linear_model import Ridge\n",
    "from sklearn.linear_model import Lasso\n",
    "from sklearn.model_selection import GridSearchCV\n",
    "from sklearn.metrics import mean_squared_error, r2_score\n",
    "\n",
    "#Hide warnings\n",
    "import warnings\n",
    "warnings.filterwarnings('ignore')"
   ]
  },
  {
   "cell_type": "markdown",
   "id": "e4fbab31",
   "metadata": {},
   "source": [
    "#### Understanding the dataset"
   ]
  },
  {
   "cell_type": "code",
   "execution_count": 2,
   "id": "0b252ba0",
   "metadata": {},
   "outputs": [
    {
     "data": {
      "text/html": [
       "<div>\n",
       "<style scoped>\n",
       "    .dataframe tbody tr th:only-of-type {\n",
       "        vertical-align: middle;\n",
       "    }\n",
       "\n",
       "    .dataframe tbody tr th {\n",
       "        vertical-align: top;\n",
       "    }\n",
       "\n",
       "    .dataframe thead th {\n",
       "        text-align: right;\n",
       "    }\n",
       "</style>\n",
       "<table border=\"1\" class=\"dataframe\">\n",
       "  <thead>\n",
       "    <tr style=\"text-align: right;\">\n",
       "      <th></th>\n",
       "      <th>Id</th>\n",
       "      <th>MSSubClass</th>\n",
       "      <th>MSZoning</th>\n",
       "      <th>LotFrontage</th>\n",
       "      <th>LotArea</th>\n",
       "      <th>Street</th>\n",
       "      <th>Alley</th>\n",
       "      <th>LotShape</th>\n",
       "      <th>LandContour</th>\n",
       "      <th>Utilities</th>\n",
       "      <th>...</th>\n",
       "      <th>PoolArea</th>\n",
       "      <th>PoolQC</th>\n",
       "      <th>Fence</th>\n",
       "      <th>MiscFeature</th>\n",
       "      <th>MiscVal</th>\n",
       "      <th>MoSold</th>\n",
       "      <th>YrSold</th>\n",
       "      <th>SaleType</th>\n",
       "      <th>SaleCondition</th>\n",
       "      <th>SalePrice</th>\n",
       "    </tr>\n",
       "  </thead>\n",
       "  <tbody>\n",
       "    <tr>\n",
       "      <th>0</th>\n",
       "      <td>1</td>\n",
       "      <td>60</td>\n",
       "      <td>RL</td>\n",
       "      <td>65.0</td>\n",
       "      <td>8450</td>\n",
       "      <td>Pave</td>\n",
       "      <td>NaN</td>\n",
       "      <td>Reg</td>\n",
       "      <td>Lvl</td>\n",
       "      <td>AllPub</td>\n",
       "      <td>...</td>\n",
       "      <td>0</td>\n",
       "      <td>NaN</td>\n",
       "      <td>NaN</td>\n",
       "      <td>NaN</td>\n",
       "      <td>0</td>\n",
       "      <td>2</td>\n",
       "      <td>2008</td>\n",
       "      <td>WD</td>\n",
       "      <td>Normal</td>\n",
       "      <td>208500</td>\n",
       "    </tr>\n",
       "    <tr>\n",
       "      <th>1</th>\n",
       "      <td>2</td>\n",
       "      <td>20</td>\n",
       "      <td>RL</td>\n",
       "      <td>80.0</td>\n",
       "      <td>9600</td>\n",
       "      <td>Pave</td>\n",
       "      <td>NaN</td>\n",
       "      <td>Reg</td>\n",
       "      <td>Lvl</td>\n",
       "      <td>AllPub</td>\n",
       "      <td>...</td>\n",
       "      <td>0</td>\n",
       "      <td>NaN</td>\n",
       "      <td>NaN</td>\n",
       "      <td>NaN</td>\n",
       "      <td>0</td>\n",
       "      <td>5</td>\n",
       "      <td>2007</td>\n",
       "      <td>WD</td>\n",
       "      <td>Normal</td>\n",
       "      <td>181500</td>\n",
       "    </tr>\n",
       "    <tr>\n",
       "      <th>2</th>\n",
       "      <td>3</td>\n",
       "      <td>60</td>\n",
       "      <td>RL</td>\n",
       "      <td>68.0</td>\n",
       "      <td>11250</td>\n",
       "      <td>Pave</td>\n",
       "      <td>NaN</td>\n",
       "      <td>IR1</td>\n",
       "      <td>Lvl</td>\n",
       "      <td>AllPub</td>\n",
       "      <td>...</td>\n",
       "      <td>0</td>\n",
       "      <td>NaN</td>\n",
       "      <td>NaN</td>\n",
       "      <td>NaN</td>\n",
       "      <td>0</td>\n",
       "      <td>9</td>\n",
       "      <td>2008</td>\n",
       "      <td>WD</td>\n",
       "      <td>Normal</td>\n",
       "      <td>223500</td>\n",
       "    </tr>\n",
       "    <tr>\n",
       "      <th>3</th>\n",
       "      <td>4</td>\n",
       "      <td>70</td>\n",
       "      <td>RL</td>\n",
       "      <td>60.0</td>\n",
       "      <td>9550</td>\n",
       "      <td>Pave</td>\n",
       "      <td>NaN</td>\n",
       "      <td>IR1</td>\n",
       "      <td>Lvl</td>\n",
       "      <td>AllPub</td>\n",
       "      <td>...</td>\n",
       "      <td>0</td>\n",
       "      <td>NaN</td>\n",
       "      <td>NaN</td>\n",
       "      <td>NaN</td>\n",
       "      <td>0</td>\n",
       "      <td>2</td>\n",
       "      <td>2006</td>\n",
       "      <td>WD</td>\n",
       "      <td>Abnorml</td>\n",
       "      <td>140000</td>\n",
       "    </tr>\n",
       "    <tr>\n",
       "      <th>4</th>\n",
       "      <td>5</td>\n",
       "      <td>60</td>\n",
       "      <td>RL</td>\n",
       "      <td>84.0</td>\n",
       "      <td>14260</td>\n",
       "      <td>Pave</td>\n",
       "      <td>NaN</td>\n",
       "      <td>IR1</td>\n",
       "      <td>Lvl</td>\n",
       "      <td>AllPub</td>\n",
       "      <td>...</td>\n",
       "      <td>0</td>\n",
       "      <td>NaN</td>\n",
       "      <td>NaN</td>\n",
       "      <td>NaN</td>\n",
       "      <td>0</td>\n",
       "      <td>12</td>\n",
       "      <td>2008</td>\n",
       "      <td>WD</td>\n",
       "      <td>Normal</td>\n",
       "      <td>250000</td>\n",
       "    </tr>\n",
       "  </tbody>\n",
       "</table>\n",
       "<p>5 rows × 81 columns</p>\n",
       "</div>"
      ],
      "text/plain": [
       "   Id  MSSubClass MSZoning  LotFrontage  LotArea Street Alley LotShape  \\\n",
       "0   1          60       RL         65.0     8450   Pave   NaN      Reg   \n",
       "1   2          20       RL         80.0     9600   Pave   NaN      Reg   \n",
       "2   3          60       RL         68.0    11250   Pave   NaN      IR1   \n",
       "3   4          70       RL         60.0     9550   Pave   NaN      IR1   \n",
       "4   5          60       RL         84.0    14260   Pave   NaN      IR1   \n",
       "\n",
       "  LandContour Utilities  ... PoolArea PoolQC Fence MiscFeature MiscVal MoSold  \\\n",
       "0         Lvl    AllPub  ...        0    NaN   NaN         NaN       0      2   \n",
       "1         Lvl    AllPub  ...        0    NaN   NaN         NaN       0      5   \n",
       "2         Lvl    AllPub  ...        0    NaN   NaN         NaN       0      9   \n",
       "3         Lvl    AllPub  ...        0    NaN   NaN         NaN       0      2   \n",
       "4         Lvl    AllPub  ...        0    NaN   NaN         NaN       0     12   \n",
       "\n",
       "  YrSold  SaleType  SaleCondition  SalePrice  \n",
       "0   2008        WD         Normal     208500  \n",
       "1   2007        WD         Normal     181500  \n",
       "2   2008        WD         Normal     223500  \n",
       "3   2006        WD        Abnorml     140000  \n",
       "4   2008        WD         Normal     250000  \n",
       "\n",
       "[5 rows x 81 columns]"
      ]
     },
     "execution_count": 2,
     "metadata": {},
     "output_type": "execute_result"
    }
   ],
   "source": [
    "df = pd.read_csv('train.csv')\n",
    "df.head()"
   ]
  },
  {
   "cell_type": "code",
   "execution_count": 3,
   "id": "75e2e1ee",
   "metadata": {},
   "outputs": [
    {
     "data": {
      "text/plain": [
       "(1460, 81)"
      ]
     },
     "execution_count": 3,
     "metadata": {},
     "output_type": "execute_result"
    }
   ],
   "source": [
    "df.shape"
   ]
  },
  {
   "cell_type": "code",
   "execution_count": 4,
   "id": "f868f3a5",
   "metadata": {},
   "outputs": [
    {
     "name": "stdout",
     "output_type": "stream",
     "text": [
      "<class 'pandas.core.frame.DataFrame'>\n",
      "RangeIndex: 1460 entries, 0 to 1459\n",
      "Data columns (total 81 columns):\n",
      " #   Column         Non-Null Count  Dtype  \n",
      "---  ------         --------------  -----  \n",
      " 0   Id             1460 non-null   int64  \n",
      " 1   MSSubClass     1460 non-null   int64  \n",
      " 2   MSZoning       1460 non-null   object \n",
      " 3   LotFrontage    1201 non-null   float64\n",
      " 4   LotArea        1460 non-null   int64  \n",
      " 5   Street         1460 non-null   object \n",
      " 6   Alley          91 non-null     object \n",
      " 7   LotShape       1460 non-null   object \n",
      " 8   LandContour    1460 non-null   object \n",
      " 9   Utilities      1460 non-null   object \n",
      " 10  LotConfig      1460 non-null   object \n",
      " 11  LandSlope      1460 non-null   object \n",
      " 12  Neighborhood   1460 non-null   object \n",
      " 13  Condition1     1460 non-null   object \n",
      " 14  Condition2     1460 non-null   object \n",
      " 15  BldgType       1460 non-null   object \n",
      " 16  HouseStyle     1460 non-null   object \n",
      " 17  OverallQual    1460 non-null   int64  \n",
      " 18  OverallCond    1460 non-null   int64  \n",
      " 19  YearBuilt      1460 non-null   int64  \n",
      " 20  YearRemodAdd   1460 non-null   int64  \n",
      " 21  RoofStyle      1460 non-null   object \n",
      " 22  RoofMatl       1460 non-null   object \n",
      " 23  Exterior1st    1460 non-null   object \n",
      " 24  Exterior2nd    1460 non-null   object \n",
      " 25  MasVnrType     1452 non-null   object \n",
      " 26  MasVnrArea     1452 non-null   float64\n",
      " 27  ExterQual      1460 non-null   object \n",
      " 28  ExterCond      1460 non-null   object \n",
      " 29  Foundation     1460 non-null   object \n",
      " 30  BsmtQual       1423 non-null   object \n",
      " 31  BsmtCond       1423 non-null   object \n",
      " 32  BsmtExposure   1422 non-null   object \n",
      " 33  BsmtFinType1   1423 non-null   object \n",
      " 34  BsmtFinSF1     1460 non-null   int64  \n",
      " 35  BsmtFinType2   1422 non-null   object \n",
      " 36  BsmtFinSF2     1460 non-null   int64  \n",
      " 37  BsmtUnfSF      1460 non-null   int64  \n",
      " 38  TotalBsmtSF    1460 non-null   int64  \n",
      " 39  Heating        1460 non-null   object \n",
      " 40  HeatingQC      1460 non-null   object \n",
      " 41  CentralAir     1460 non-null   object \n",
      " 42  Electrical     1459 non-null   object \n",
      " 43  1stFlrSF       1460 non-null   int64  \n",
      " 44  2ndFlrSF       1460 non-null   int64  \n",
      " 45  LowQualFinSF   1460 non-null   int64  \n",
      " 46  GrLivArea      1460 non-null   int64  \n",
      " 47  BsmtFullBath   1460 non-null   int64  \n",
      " 48  BsmtHalfBath   1460 non-null   int64  \n",
      " 49  FullBath       1460 non-null   int64  \n",
      " 50  HalfBath       1460 non-null   int64  \n",
      " 51  BedroomAbvGr   1460 non-null   int64  \n",
      " 52  KitchenAbvGr   1460 non-null   int64  \n",
      " 53  KitchenQual    1460 non-null   object \n",
      " 54  TotRmsAbvGrd   1460 non-null   int64  \n",
      " 55  Functional     1460 non-null   object \n",
      " 56  Fireplaces     1460 non-null   int64  \n",
      " 57  FireplaceQu    770 non-null    object \n",
      " 58  GarageType     1379 non-null   object \n",
      " 59  GarageYrBlt    1379 non-null   float64\n",
      " 60  GarageFinish   1379 non-null   object \n",
      " 61  GarageCars     1460 non-null   int64  \n",
      " 62  GarageArea     1460 non-null   int64  \n",
      " 63  GarageQual     1379 non-null   object \n",
      " 64  GarageCond     1379 non-null   object \n",
      " 65  PavedDrive     1460 non-null   object \n",
      " 66  WoodDeckSF     1460 non-null   int64  \n",
      " 67  OpenPorchSF    1460 non-null   int64  \n",
      " 68  EnclosedPorch  1460 non-null   int64  \n",
      " 69  3SsnPorch      1460 non-null   int64  \n",
      " 70  ScreenPorch    1460 non-null   int64  \n",
      " 71  PoolArea       1460 non-null   int64  \n",
      " 72  PoolQC         7 non-null      object \n",
      " 73  Fence          281 non-null    object \n",
      " 74  MiscFeature    54 non-null     object \n",
      " 75  MiscVal        1460 non-null   int64  \n",
      " 76  MoSold         1460 non-null   int64  \n",
      " 77  YrSold         1460 non-null   int64  \n",
      " 78  SaleType       1460 non-null   object \n",
      " 79  SaleCondition  1460 non-null   object \n",
      " 80  SalePrice      1460 non-null   int64  \n",
      "dtypes: float64(3), int64(35), object(43)\n",
      "memory usage: 924.0+ KB\n"
     ]
    }
   ],
   "source": [
    "df.info()"
   ]
  },
  {
   "cell_type": "code",
   "execution_count": 5,
   "id": "58d793a9",
   "metadata": {},
   "outputs": [
    {
     "data": {
      "text/plain": [
       "LotFrontage     17.739726\n",
       "Alley           93.767123\n",
       "MasVnrType       0.547945\n",
       "MasVnrArea       0.547945\n",
       "BsmtQual         2.534247\n",
       "BsmtCond         2.534247\n",
       "BsmtExposure     2.602740\n",
       "BsmtFinType1     2.534247\n",
       "BsmtFinType2     2.602740\n",
       "Electrical       0.068493\n",
       "FireplaceQu     47.260274\n",
       "GarageType       5.547945\n",
       "GarageYrBlt      5.547945\n",
       "GarageFinish     5.547945\n",
       "GarageQual       5.547945\n",
       "GarageCond       5.547945\n",
       "PoolQC          99.520548\n",
       "Fence           80.753425\n",
       "MiscFeature     96.301370\n",
       "dtype: float64"
      ]
     },
     "execution_count": 5,
     "metadata": {},
     "output_type": "execute_result"
    }
   ],
   "source": [
    "# Finding columns with null values and their percentages\n",
    "\n",
    "null_columns = df.columns[df.isnull().any()]\n",
    "(df[null_columns].isnull().sum()/len(df))*100"
   ]
  },
  {
   "cell_type": "markdown",
   "id": "fce08f5c",
   "metadata": {},
   "source": [
    "### 2.  Data Cleaning"
   ]
  },
  {
   "cell_type": "code",
   "execution_count": 6,
   "id": "c44e085f",
   "metadata": {},
   "outputs": [],
   "source": [
    "# Dropping columns with high percentage of null values\n",
    "\n",
    "df = df.drop(['Alley', 'FireplaceQu', 'PoolQC', 'Fence', 'MiscFeature'], axis=1)"
   ]
  },
  {
   "cell_type": "code",
   "execution_count": 7,
   "id": "64bb3998",
   "metadata": {},
   "outputs": [
    {
     "data": {
      "text/plain": [
       "(1460, 76)"
      ]
     },
     "execution_count": 7,
     "metadata": {},
     "output_type": "execute_result"
    }
   ],
   "source": [
    "df.shape"
   ]
  },
  {
   "cell_type": "code",
   "execution_count": 8,
   "id": "d028f3d9",
   "metadata": {},
   "outputs": [
    {
     "data": {
      "text/html": [
       "<div>\n",
       "<style scoped>\n",
       "    .dataframe tbody tr th:only-of-type {\n",
       "        vertical-align: middle;\n",
       "    }\n",
       "\n",
       "    .dataframe tbody tr th {\n",
       "        vertical-align: top;\n",
       "    }\n",
       "\n",
       "    .dataframe thead th {\n",
       "        text-align: right;\n",
       "    }\n",
       "</style>\n",
       "<table border=\"1\" class=\"dataframe\">\n",
       "  <thead>\n",
       "    <tr style=\"text-align: right;\">\n",
       "      <th></th>\n",
       "      <th>Id</th>\n",
       "      <th>MSSubClass</th>\n",
       "      <th>LotFrontage</th>\n",
       "      <th>LotArea</th>\n",
       "      <th>OverallQual</th>\n",
       "      <th>OverallCond</th>\n",
       "      <th>YearBuilt</th>\n",
       "      <th>YearRemodAdd</th>\n",
       "      <th>MasVnrArea</th>\n",
       "      <th>BsmtFinSF1</th>\n",
       "      <th>...</th>\n",
       "      <th>WoodDeckSF</th>\n",
       "      <th>OpenPorchSF</th>\n",
       "      <th>EnclosedPorch</th>\n",
       "      <th>3SsnPorch</th>\n",
       "      <th>ScreenPorch</th>\n",
       "      <th>PoolArea</th>\n",
       "      <th>MiscVal</th>\n",
       "      <th>MoSold</th>\n",
       "      <th>YrSold</th>\n",
       "      <th>SalePrice</th>\n",
       "    </tr>\n",
       "  </thead>\n",
       "  <tbody>\n",
       "    <tr>\n",
       "      <th>count</th>\n",
       "      <td>1460.000000</td>\n",
       "      <td>1460.000000</td>\n",
       "      <td>1201.000000</td>\n",
       "      <td>1460.000000</td>\n",
       "      <td>1460.000000</td>\n",
       "      <td>1460.000000</td>\n",
       "      <td>1460.000000</td>\n",
       "      <td>1460.000000</td>\n",
       "      <td>1452.000000</td>\n",
       "      <td>1460.000000</td>\n",
       "      <td>...</td>\n",
       "      <td>1460.000000</td>\n",
       "      <td>1460.000000</td>\n",
       "      <td>1460.000000</td>\n",
       "      <td>1460.000000</td>\n",
       "      <td>1460.000000</td>\n",
       "      <td>1460.000000</td>\n",
       "      <td>1460.000000</td>\n",
       "      <td>1460.000000</td>\n",
       "      <td>1460.000000</td>\n",
       "      <td>1460.000000</td>\n",
       "    </tr>\n",
       "    <tr>\n",
       "      <th>mean</th>\n",
       "      <td>730.500000</td>\n",
       "      <td>56.897260</td>\n",
       "      <td>70.049958</td>\n",
       "      <td>10516.828082</td>\n",
       "      <td>6.099315</td>\n",
       "      <td>5.575342</td>\n",
       "      <td>1971.267808</td>\n",
       "      <td>1984.865753</td>\n",
       "      <td>103.685262</td>\n",
       "      <td>443.639726</td>\n",
       "      <td>...</td>\n",
       "      <td>94.244521</td>\n",
       "      <td>46.660274</td>\n",
       "      <td>21.954110</td>\n",
       "      <td>3.409589</td>\n",
       "      <td>15.060959</td>\n",
       "      <td>2.758904</td>\n",
       "      <td>43.489041</td>\n",
       "      <td>6.321918</td>\n",
       "      <td>2007.815753</td>\n",
       "      <td>180921.195890</td>\n",
       "    </tr>\n",
       "    <tr>\n",
       "      <th>std</th>\n",
       "      <td>421.610009</td>\n",
       "      <td>42.300571</td>\n",
       "      <td>24.284752</td>\n",
       "      <td>9981.264932</td>\n",
       "      <td>1.382997</td>\n",
       "      <td>1.112799</td>\n",
       "      <td>30.202904</td>\n",
       "      <td>20.645407</td>\n",
       "      <td>181.066207</td>\n",
       "      <td>456.098091</td>\n",
       "      <td>...</td>\n",
       "      <td>125.338794</td>\n",
       "      <td>66.256028</td>\n",
       "      <td>61.119149</td>\n",
       "      <td>29.317331</td>\n",
       "      <td>55.757415</td>\n",
       "      <td>40.177307</td>\n",
       "      <td>496.123024</td>\n",
       "      <td>2.703626</td>\n",
       "      <td>1.328095</td>\n",
       "      <td>79442.502883</td>\n",
       "    </tr>\n",
       "    <tr>\n",
       "      <th>min</th>\n",
       "      <td>1.000000</td>\n",
       "      <td>20.000000</td>\n",
       "      <td>21.000000</td>\n",
       "      <td>1300.000000</td>\n",
       "      <td>1.000000</td>\n",
       "      <td>1.000000</td>\n",
       "      <td>1872.000000</td>\n",
       "      <td>1950.000000</td>\n",
       "      <td>0.000000</td>\n",
       "      <td>0.000000</td>\n",
       "      <td>...</td>\n",
       "      <td>0.000000</td>\n",
       "      <td>0.000000</td>\n",
       "      <td>0.000000</td>\n",
       "      <td>0.000000</td>\n",
       "      <td>0.000000</td>\n",
       "      <td>0.000000</td>\n",
       "      <td>0.000000</td>\n",
       "      <td>1.000000</td>\n",
       "      <td>2006.000000</td>\n",
       "      <td>34900.000000</td>\n",
       "    </tr>\n",
       "    <tr>\n",
       "      <th>25%</th>\n",
       "      <td>365.750000</td>\n",
       "      <td>20.000000</td>\n",
       "      <td>59.000000</td>\n",
       "      <td>7553.500000</td>\n",
       "      <td>5.000000</td>\n",
       "      <td>5.000000</td>\n",
       "      <td>1954.000000</td>\n",
       "      <td>1967.000000</td>\n",
       "      <td>0.000000</td>\n",
       "      <td>0.000000</td>\n",
       "      <td>...</td>\n",
       "      <td>0.000000</td>\n",
       "      <td>0.000000</td>\n",
       "      <td>0.000000</td>\n",
       "      <td>0.000000</td>\n",
       "      <td>0.000000</td>\n",
       "      <td>0.000000</td>\n",
       "      <td>0.000000</td>\n",
       "      <td>5.000000</td>\n",
       "      <td>2007.000000</td>\n",
       "      <td>129975.000000</td>\n",
       "    </tr>\n",
       "    <tr>\n",
       "      <th>50%</th>\n",
       "      <td>730.500000</td>\n",
       "      <td>50.000000</td>\n",
       "      <td>69.000000</td>\n",
       "      <td>9478.500000</td>\n",
       "      <td>6.000000</td>\n",
       "      <td>5.000000</td>\n",
       "      <td>1973.000000</td>\n",
       "      <td>1994.000000</td>\n",
       "      <td>0.000000</td>\n",
       "      <td>383.500000</td>\n",
       "      <td>...</td>\n",
       "      <td>0.000000</td>\n",
       "      <td>25.000000</td>\n",
       "      <td>0.000000</td>\n",
       "      <td>0.000000</td>\n",
       "      <td>0.000000</td>\n",
       "      <td>0.000000</td>\n",
       "      <td>0.000000</td>\n",
       "      <td>6.000000</td>\n",
       "      <td>2008.000000</td>\n",
       "      <td>163000.000000</td>\n",
       "    </tr>\n",
       "    <tr>\n",
       "      <th>75%</th>\n",
       "      <td>1095.250000</td>\n",
       "      <td>70.000000</td>\n",
       "      <td>80.000000</td>\n",
       "      <td>11601.500000</td>\n",
       "      <td>7.000000</td>\n",
       "      <td>6.000000</td>\n",
       "      <td>2000.000000</td>\n",
       "      <td>2004.000000</td>\n",
       "      <td>166.000000</td>\n",
       "      <td>712.250000</td>\n",
       "      <td>...</td>\n",
       "      <td>168.000000</td>\n",
       "      <td>68.000000</td>\n",
       "      <td>0.000000</td>\n",
       "      <td>0.000000</td>\n",
       "      <td>0.000000</td>\n",
       "      <td>0.000000</td>\n",
       "      <td>0.000000</td>\n",
       "      <td>8.000000</td>\n",
       "      <td>2009.000000</td>\n",
       "      <td>214000.000000</td>\n",
       "    </tr>\n",
       "    <tr>\n",
       "      <th>max</th>\n",
       "      <td>1460.000000</td>\n",
       "      <td>190.000000</td>\n",
       "      <td>313.000000</td>\n",
       "      <td>215245.000000</td>\n",
       "      <td>10.000000</td>\n",
       "      <td>9.000000</td>\n",
       "      <td>2010.000000</td>\n",
       "      <td>2010.000000</td>\n",
       "      <td>1600.000000</td>\n",
       "      <td>5644.000000</td>\n",
       "      <td>...</td>\n",
       "      <td>857.000000</td>\n",
       "      <td>547.000000</td>\n",
       "      <td>552.000000</td>\n",
       "      <td>508.000000</td>\n",
       "      <td>480.000000</td>\n",
       "      <td>738.000000</td>\n",
       "      <td>15500.000000</td>\n",
       "      <td>12.000000</td>\n",
       "      <td>2010.000000</td>\n",
       "      <td>755000.000000</td>\n",
       "    </tr>\n",
       "  </tbody>\n",
       "</table>\n",
       "<p>8 rows × 38 columns</p>\n",
       "</div>"
      ],
      "text/plain": [
       "                Id   MSSubClass  LotFrontage        LotArea  OverallQual  \\\n",
       "count  1460.000000  1460.000000  1201.000000    1460.000000  1460.000000   \n",
       "mean    730.500000    56.897260    70.049958   10516.828082     6.099315   \n",
       "std     421.610009    42.300571    24.284752    9981.264932     1.382997   \n",
       "min       1.000000    20.000000    21.000000    1300.000000     1.000000   \n",
       "25%     365.750000    20.000000    59.000000    7553.500000     5.000000   \n",
       "50%     730.500000    50.000000    69.000000    9478.500000     6.000000   \n",
       "75%    1095.250000    70.000000    80.000000   11601.500000     7.000000   \n",
       "max    1460.000000   190.000000   313.000000  215245.000000    10.000000   \n",
       "\n",
       "       OverallCond    YearBuilt  YearRemodAdd   MasVnrArea   BsmtFinSF1  ...  \\\n",
       "count  1460.000000  1460.000000   1460.000000  1452.000000  1460.000000  ...   \n",
       "mean      5.575342  1971.267808   1984.865753   103.685262   443.639726  ...   \n",
       "std       1.112799    30.202904     20.645407   181.066207   456.098091  ...   \n",
       "min       1.000000  1872.000000   1950.000000     0.000000     0.000000  ...   \n",
       "25%       5.000000  1954.000000   1967.000000     0.000000     0.000000  ...   \n",
       "50%       5.000000  1973.000000   1994.000000     0.000000   383.500000  ...   \n",
       "75%       6.000000  2000.000000   2004.000000   166.000000   712.250000  ...   \n",
       "max       9.000000  2010.000000   2010.000000  1600.000000  5644.000000  ...   \n",
       "\n",
       "        WoodDeckSF  OpenPorchSF  EnclosedPorch    3SsnPorch  ScreenPorch  \\\n",
       "count  1460.000000  1460.000000    1460.000000  1460.000000  1460.000000   \n",
       "mean     94.244521    46.660274      21.954110     3.409589    15.060959   \n",
       "std     125.338794    66.256028      61.119149    29.317331    55.757415   \n",
       "min       0.000000     0.000000       0.000000     0.000000     0.000000   \n",
       "25%       0.000000     0.000000       0.000000     0.000000     0.000000   \n",
       "50%       0.000000    25.000000       0.000000     0.000000     0.000000   \n",
       "75%     168.000000    68.000000       0.000000     0.000000     0.000000   \n",
       "max     857.000000   547.000000     552.000000   508.000000   480.000000   \n",
       "\n",
       "          PoolArea       MiscVal       MoSold       YrSold      SalePrice  \n",
       "count  1460.000000   1460.000000  1460.000000  1460.000000    1460.000000  \n",
       "mean      2.758904     43.489041     6.321918  2007.815753  180921.195890  \n",
       "std      40.177307    496.123024     2.703626     1.328095   79442.502883  \n",
       "min       0.000000      0.000000     1.000000  2006.000000   34900.000000  \n",
       "25%       0.000000      0.000000     5.000000  2007.000000  129975.000000  \n",
       "50%       0.000000      0.000000     6.000000  2008.000000  163000.000000  \n",
       "75%       0.000000      0.000000     8.000000  2009.000000  214000.000000  \n",
       "max     738.000000  15500.000000    12.000000  2010.000000  755000.000000  \n",
       "\n",
       "[8 rows x 38 columns]"
      ]
     },
     "execution_count": 8,
     "metadata": {},
     "output_type": "execute_result"
    }
   ],
   "source": [
    "df.describe()"
   ]
  },
  {
   "cell_type": "markdown",
   "id": "a2740806",
   "metadata": {},
   "source": [
    "The meanings of each features are understood from the data dictionary."
   ]
  },
  {
   "cell_type": "markdown",
   "id": "77df6033",
   "metadata": {},
   "source": [
    "#### Missing value inputation"
   ]
  },
  {
   "cell_type": "code",
   "execution_count": 9,
   "id": "0bad9db9",
   "metadata": {},
   "outputs": [],
   "source": [
    "# Imputing missing values by using median in \"Linear feet of street connected to property\" column\n",
    "\n",
    "df['LotFrontage'].fillna(df['LotFrontage'].median(), inplace=True)"
   ]
  },
  {
   "cell_type": "code",
   "execution_count": 10,
   "id": "2b7aef23",
   "metadata": {},
   "outputs": [
    {
     "data": {
      "text/plain": [
       "0"
      ]
     },
     "execution_count": 10,
     "metadata": {},
     "output_type": "execute_result"
    }
   ],
   "source": [
    "df.LotFrontage.isnull().sum()"
   ]
  },
  {
   "cell_type": "code",
   "execution_count": 11,
   "id": "c8516ba3",
   "metadata": {},
   "outputs": [
    {
     "data": {
      "text/plain": [
       "None       864\n",
       "BrkFace    445\n",
       "Stone      128\n",
       "BrkCmn      15\n",
       "Name: MasVnrType, dtype: int64"
      ]
     },
     "execution_count": 11,
     "metadata": {},
     "output_type": "execute_result"
    }
   ],
   "source": [
    "df.MasVnrType.value_counts()"
   ]
  },
  {
   "cell_type": "code",
   "execution_count": 12,
   "id": "f2716cf1",
   "metadata": {},
   "outputs": [],
   "source": [
    "# Impurting missing values with 'None'in \"Masonry veneer type\" column\n",
    "\n",
    "df['MasVnrType'].fillna(('None'), inplace=True)"
   ]
  },
  {
   "cell_type": "code",
   "execution_count": 13,
   "id": "f1cc8c3d",
   "metadata": {},
   "outputs": [
    {
     "data": {
      "text/plain": [
       "0"
      ]
     },
     "execution_count": 13,
     "metadata": {},
     "output_type": "execute_result"
    }
   ],
   "source": [
    "df.MasVnrType.isnull().sum()"
   ]
  },
  {
   "cell_type": "code",
   "execution_count": 14,
   "id": "87e088b5",
   "metadata": {
    "scrolled": true
   },
   "outputs": [
    {
     "data": {
      "text/plain": [
       "MasVnrType\n",
       "BrkCmn     192.0\n",
       "BrkFace    202.0\n",
       "None         0.0\n",
       "Stone      206.5\n",
       "Name: MasVnrArea, dtype: float64"
      ]
     },
     "execution_count": 14,
     "metadata": {},
     "output_type": "execute_result"
    }
   ],
   "source": [
    "df.groupby('MasVnrType')['MasVnrArea'].median()"
   ]
  },
  {
   "cell_type": "code",
   "execution_count": 15,
   "id": "f15afa36",
   "metadata": {},
   "outputs": [],
   "source": [
    "# In dataset the missing values in \"Masonry veneer area in square feet\" column correspond to the 'None' record \n",
    "# of \"Masonry veneer type\", therefore the missing values are imputed with '0'\n",
    "\n",
    "df['MasVnrArea'].fillna((0), inplace=True)"
   ]
  },
  {
   "cell_type": "code",
   "execution_count": 16,
   "id": "85bd64a2",
   "metadata": {},
   "outputs": [
    {
     "data": {
      "text/plain": [
       "0"
      ]
     },
     "execution_count": 16,
     "metadata": {},
     "output_type": "execute_result"
    }
   ],
   "source": [
    "df.MasVnrArea.isnull().sum()"
   ]
  },
  {
   "cell_type": "code",
   "execution_count": 17,
   "id": "13fbf5e6",
   "metadata": {},
   "outputs": [
    {
     "data": {
      "text/plain": [
       "TA    649\n",
       "Gd    618\n",
       "Ex    121\n",
       "Fa     35\n",
       "Name: BsmtQual, dtype: int64"
      ]
     },
     "execution_count": 17,
     "metadata": {},
     "output_type": "execute_result"
    }
   ],
   "source": [
    "df.BsmtQual.value_counts()"
   ]
  },
  {
   "cell_type": "code",
   "execution_count": 18,
   "id": "ce039b7c",
   "metadata": {},
   "outputs": [
    {
     "data": {
      "text/plain": [
       "37"
      ]
     },
     "execution_count": 18,
     "metadata": {},
     "output_type": "execute_result"
    }
   ],
   "source": [
    "df.BsmtQual.isnull().sum()"
   ]
  },
  {
   "cell_type": "code",
   "execution_count": 19,
   "id": "15b07d9c",
   "metadata": {},
   "outputs": [],
   "source": [
    "# In \"Evaluates the height of the basement\" column, 'NA' means 'No Basement', therefore, the missing values \n",
    "# are inputed with 'No'\n",
    "\n",
    "df['BsmtQual'].fillna(('No'), inplace=True)"
   ]
  },
  {
   "cell_type": "code",
   "execution_count": 20,
   "id": "b6538972",
   "metadata": {},
   "outputs": [
    {
     "data": {
      "text/plain": [
       "TA    649\n",
       "Gd    618\n",
       "Ex    121\n",
       "No     37\n",
       "Fa     35\n",
       "Name: BsmtQual, dtype: int64"
      ]
     },
     "execution_count": 20,
     "metadata": {},
     "output_type": "execute_result"
    }
   ],
   "source": [
    "df.BsmtQual.value_counts()"
   ]
  },
  {
   "cell_type": "code",
   "execution_count": 21,
   "id": "5665ee84",
   "metadata": {},
   "outputs": [
    {
     "data": {
      "text/plain": [
       "0"
      ]
     },
     "execution_count": 21,
     "metadata": {},
     "output_type": "execute_result"
    }
   ],
   "source": [
    "df.BsmtQual.isnull().sum()"
   ]
  },
  {
   "cell_type": "code",
   "execution_count": 22,
   "id": "5e4b2e99",
   "metadata": {},
   "outputs": [
    {
     "data": {
      "text/plain": [
       "37"
      ]
     },
     "execution_count": 22,
     "metadata": {},
     "output_type": "execute_result"
    }
   ],
   "source": [
    "df.BsmtCond.isnull().sum()"
   ]
  },
  {
   "cell_type": "code",
   "execution_count": 23,
   "id": "e835d9ec",
   "metadata": {},
   "outputs": [],
   "source": [
    "# In \"Evaluates the general condition of the basement\" column, 'NA' means 'No Basement', \n",
    "# therefore, the missing values are inputed with 'No'\n",
    "\n",
    "df['BsmtCond'].fillna(('No'), inplace=True)"
   ]
  },
  {
   "cell_type": "code",
   "execution_count": 24,
   "id": "ada8fee6",
   "metadata": {},
   "outputs": [
    {
     "data": {
      "text/plain": [
       "0"
      ]
     },
     "execution_count": 24,
     "metadata": {},
     "output_type": "execute_result"
    }
   ],
   "source": [
    "df.BsmtCond.isnull().sum()"
   ]
  },
  {
   "cell_type": "code",
   "execution_count": 25,
   "id": "2a6fec03",
   "metadata": {},
   "outputs": [
    {
     "data": {
      "text/plain": [
       "38"
      ]
     },
     "execution_count": 25,
     "metadata": {},
     "output_type": "execute_result"
    }
   ],
   "source": [
    "df['BsmtExposure'].isnull().sum()"
   ]
  },
  {
   "cell_type": "code",
   "execution_count": 26,
   "id": "2c3a9776",
   "metadata": {},
   "outputs": [
    {
     "data": {
      "text/plain": [
       "No    953\n",
       "Av    221\n",
       "Gd    134\n",
       "Mn    114\n",
       "Name: BsmtExposure, dtype: int64"
      ]
     },
     "execution_count": 26,
     "metadata": {},
     "output_type": "execute_result"
    }
   ],
   "source": [
    "df.BsmtExposure.value_counts()"
   ]
  },
  {
   "cell_type": "code",
   "execution_count": 27,
   "id": "bd3d440f",
   "metadata": {},
   "outputs": [],
   "source": [
    "# In \"Refers to walkout or garden level walls\" column, 'NA' means 'No Basement', \n",
    "# therefore, the missing values are inputed with 'NB'\n",
    "\n",
    "df['BsmtExposure'].fillna(('NB'), inplace=True)"
   ]
  },
  {
   "cell_type": "code",
   "execution_count": 28,
   "id": "c865c2ba",
   "metadata": {},
   "outputs": [
    {
     "data": {
      "text/plain": [
       "No    953\n",
       "Av    221\n",
       "Gd    134\n",
       "Mn    114\n",
       "NB     38\n",
       "Name: BsmtExposure, dtype: int64"
      ]
     },
     "execution_count": 28,
     "metadata": {},
     "output_type": "execute_result"
    }
   ],
   "source": [
    "df.BsmtExposure.value_counts()"
   ]
  },
  {
   "cell_type": "code",
   "execution_count": 29,
   "id": "29a43f37",
   "metadata": {},
   "outputs": [
    {
     "data": {
      "text/plain": [
       "Unf    430\n",
       "GLQ    418\n",
       "ALQ    220\n",
       "BLQ    148\n",
       "Rec    133\n",
       "LwQ     74\n",
       "Name: BsmtFinType1, dtype: int64"
      ]
     },
     "execution_count": 29,
     "metadata": {},
     "output_type": "execute_result"
    }
   ],
   "source": [
    "df.BsmtFinType1.value_counts()"
   ]
  },
  {
   "cell_type": "code",
   "execution_count": 30,
   "id": "ddd6aa4c",
   "metadata": {},
   "outputs": [
    {
     "data": {
      "text/plain": [
       "37"
      ]
     },
     "execution_count": 30,
     "metadata": {},
     "output_type": "execute_result"
    }
   ],
   "source": [
    "df.BsmtFinType1.isnull().sum()"
   ]
  },
  {
   "cell_type": "code",
   "execution_count": 31,
   "id": "7294b2d4",
   "metadata": {},
   "outputs": [],
   "source": [
    "# In \"Rating of basement finished area\" column, 'NA' means 'No Basement', \n",
    "# therefore, the missing values are inputed with 'NoB'\n",
    "\n",
    "df['BsmtFinType1'].fillna(('NoB'), inplace=True)"
   ]
  },
  {
   "cell_type": "code",
   "execution_count": 32,
   "id": "a16a3ab7",
   "metadata": {},
   "outputs": [
    {
     "data": {
      "text/plain": [
       "0"
      ]
     },
     "execution_count": 32,
     "metadata": {},
     "output_type": "execute_result"
    }
   ],
   "source": [
    "df.BsmtFinType1.isnull().sum()"
   ]
  },
  {
   "cell_type": "code",
   "execution_count": 33,
   "id": "9aacf2f5",
   "metadata": {},
   "outputs": [
    {
     "data": {
      "text/plain": [
       "38"
      ]
     },
     "execution_count": 33,
     "metadata": {},
     "output_type": "execute_result"
    }
   ],
   "source": [
    "df.BsmtFinType2.isnull().sum()"
   ]
  },
  {
   "cell_type": "code",
   "execution_count": 34,
   "id": "ef8ab7d5",
   "metadata": {},
   "outputs": [],
   "source": [
    "# In \"Rating of basement finished area (if multiple types)\" column, 'NA' means 'No Basement', \n",
    "# therefore, the missing values are inputed with 'NoB'\n",
    "\n",
    "df['BsmtFinType2'].fillna(('NoB'), inplace=True)"
   ]
  },
  {
   "cell_type": "code",
   "execution_count": 35,
   "id": "a52ce2fe",
   "metadata": {},
   "outputs": [
    {
     "data": {
      "text/plain": [
       "0"
      ]
     },
     "execution_count": 35,
     "metadata": {},
     "output_type": "execute_result"
    }
   ],
   "source": [
    "df.BsmtFinType2.isnull().sum()"
   ]
  },
  {
   "cell_type": "code",
   "execution_count": 36,
   "id": "40b53a3e",
   "metadata": {},
   "outputs": [
    {
     "data": {
      "text/plain": [
       "1"
      ]
     },
     "execution_count": 36,
     "metadata": {},
     "output_type": "execute_result"
    }
   ],
   "source": [
    "df.Electrical.isnull().sum()"
   ]
  },
  {
   "cell_type": "code",
   "execution_count": 37,
   "id": "b063b553",
   "metadata": {},
   "outputs": [
    {
     "data": {
      "text/plain": [
       "SBrkr    1334\n",
       "FuseA      94\n",
       "FuseF      27\n",
       "FuseP       3\n",
       "Mix         1\n",
       "Name: Electrical, dtype: int64"
      ]
     },
     "execution_count": 37,
     "metadata": {},
     "output_type": "execute_result"
    }
   ],
   "source": [
    "df.Electrical.value_counts()"
   ]
  },
  {
   "cell_type": "code",
   "execution_count": 38,
   "id": "f11c702e",
   "metadata": {},
   "outputs": [],
   "source": [
    "# In \"Electrical system\" column, the missing value is imputed with mode, i.e. 'SBrkr'\n",
    "\n",
    "df['Electrical'].fillna(('SBrkr'), inplace=True)"
   ]
  },
  {
   "cell_type": "code",
   "execution_count": 39,
   "id": "3dde4cdb",
   "metadata": {},
   "outputs": [
    {
     "data": {
      "text/plain": [
       "SBrkr    1335\n",
       "FuseA      94\n",
       "FuseF      27\n",
       "FuseP       3\n",
       "Mix         1\n",
       "Name: Electrical, dtype: int64"
      ]
     },
     "execution_count": 39,
     "metadata": {},
     "output_type": "execute_result"
    }
   ],
   "source": [
    "df.Electrical.value_counts()"
   ]
  },
  {
   "cell_type": "code",
   "execution_count": 40,
   "id": "e5eb354a",
   "metadata": {},
   "outputs": [],
   "source": [
    "# Since 'NA' means 'No Garage' in these four categorical variables and related to the \"Garage\", the null values\n",
    "# are replaced with 'NoGarage'\n",
    "\n",
    "garag_fields = ['GarageType', 'GarageFinish', 'GarageQual', 'GarageCond']\n",
    "\n",
    "for i in garag_fields:\n",
    "    df[i].fillna(('NoGarage'), inplace=True)"
   ]
  },
  {
   "cell_type": "code",
   "execution_count": 41,
   "id": "ea988901",
   "metadata": {},
   "outputs": [
    {
     "name": "stdout",
     "output_type": "stream",
     "text": [
      "0\n",
      "0\n",
      "0\n",
      "0\n"
     ]
    }
   ],
   "source": [
    "for i in garag_fields:\n",
    "    print(df[i].isnull().sum())"
   ]
  },
  {
   "cell_type": "code",
   "execution_count": 42,
   "id": "a4440f5d",
   "metadata": {},
   "outputs": [
    {
     "data": {
      "text/plain": [
       "81"
      ]
     },
     "execution_count": 42,
     "metadata": {},
     "output_type": "execute_result"
    }
   ],
   "source": [
    "df.GarageYrBlt.isnull().sum()"
   ]
  },
  {
   "cell_type": "code",
   "execution_count": 43,
   "id": "ecb1d121",
   "metadata": {},
   "outputs": [
    {
     "data": {
      "text/plain": [
       "0    2005.0\n",
       "dtype: float64"
      ]
     },
     "execution_count": 43,
     "metadata": {},
     "output_type": "execute_result"
    }
   ],
   "source": [
    "df.GarageYrBlt.mode()"
   ]
  },
  {
   "cell_type": "code",
   "execution_count": 44,
   "id": "89e1d2c8",
   "metadata": {},
   "outputs": [],
   "source": [
    "# The missing values in \"Year garage was built\" are imputed with mode value, i.e. 2005\n",
    "\n",
    "df['GarageYrBlt'].fillna((2005.0), inplace=True)"
   ]
  },
  {
   "cell_type": "code",
   "execution_count": 45,
   "id": "67bb33d6",
   "metadata": {},
   "outputs": [
    {
     "data": {
      "text/plain": [
       "0"
      ]
     },
     "execution_count": 45,
     "metadata": {},
     "output_type": "execute_result"
    }
   ],
   "source": [
    "df.GarageYrBlt.isnull().sum()"
   ]
  },
  {
   "cell_type": "code",
   "execution_count": 46,
   "id": "6423a62b",
   "metadata": {},
   "outputs": [
    {
     "name": "stdout",
     "output_type": "stream",
     "text": [
      "<class 'pandas.core.frame.DataFrame'>\n",
      "RangeIndex: 1460 entries, 0 to 1459\n",
      "Data columns (total 76 columns):\n",
      " #   Column         Non-Null Count  Dtype  \n",
      "---  ------         --------------  -----  \n",
      " 0   Id             1460 non-null   int64  \n",
      " 1   MSSubClass     1460 non-null   int64  \n",
      " 2   MSZoning       1460 non-null   object \n",
      " 3   LotFrontage    1460 non-null   float64\n",
      " 4   LotArea        1460 non-null   int64  \n",
      " 5   Street         1460 non-null   object \n",
      " 6   LotShape       1460 non-null   object \n",
      " 7   LandContour    1460 non-null   object \n",
      " 8   Utilities      1460 non-null   object \n",
      " 9   LotConfig      1460 non-null   object \n",
      " 10  LandSlope      1460 non-null   object \n",
      " 11  Neighborhood   1460 non-null   object \n",
      " 12  Condition1     1460 non-null   object \n",
      " 13  Condition2     1460 non-null   object \n",
      " 14  BldgType       1460 non-null   object \n",
      " 15  HouseStyle     1460 non-null   object \n",
      " 16  OverallQual    1460 non-null   int64  \n",
      " 17  OverallCond    1460 non-null   int64  \n",
      " 18  YearBuilt      1460 non-null   int64  \n",
      " 19  YearRemodAdd   1460 non-null   int64  \n",
      " 20  RoofStyle      1460 non-null   object \n",
      " 21  RoofMatl       1460 non-null   object \n",
      " 22  Exterior1st    1460 non-null   object \n",
      " 23  Exterior2nd    1460 non-null   object \n",
      " 24  MasVnrType     1460 non-null   object \n",
      " 25  MasVnrArea     1460 non-null   float64\n",
      " 26  ExterQual      1460 non-null   object \n",
      " 27  ExterCond      1460 non-null   object \n",
      " 28  Foundation     1460 non-null   object \n",
      " 29  BsmtQual       1460 non-null   object \n",
      " 30  BsmtCond       1460 non-null   object \n",
      " 31  BsmtExposure   1460 non-null   object \n",
      " 32  BsmtFinType1   1460 non-null   object \n",
      " 33  BsmtFinSF1     1460 non-null   int64  \n",
      " 34  BsmtFinType2   1460 non-null   object \n",
      " 35  BsmtFinSF2     1460 non-null   int64  \n",
      " 36  BsmtUnfSF      1460 non-null   int64  \n",
      " 37  TotalBsmtSF    1460 non-null   int64  \n",
      " 38  Heating        1460 non-null   object \n",
      " 39  HeatingQC      1460 non-null   object \n",
      " 40  CentralAir     1460 non-null   object \n",
      " 41  Electrical     1460 non-null   object \n",
      " 42  1stFlrSF       1460 non-null   int64  \n",
      " 43  2ndFlrSF       1460 non-null   int64  \n",
      " 44  LowQualFinSF   1460 non-null   int64  \n",
      " 45  GrLivArea      1460 non-null   int64  \n",
      " 46  BsmtFullBath   1460 non-null   int64  \n",
      " 47  BsmtHalfBath   1460 non-null   int64  \n",
      " 48  FullBath       1460 non-null   int64  \n",
      " 49  HalfBath       1460 non-null   int64  \n",
      " 50  BedroomAbvGr   1460 non-null   int64  \n",
      " 51  KitchenAbvGr   1460 non-null   int64  \n",
      " 52  KitchenQual    1460 non-null   object \n",
      " 53  TotRmsAbvGrd   1460 non-null   int64  \n",
      " 54  Functional     1460 non-null   object \n",
      " 55  Fireplaces     1460 non-null   int64  \n",
      " 56  GarageType     1460 non-null   object \n",
      " 57  GarageYrBlt    1460 non-null   float64\n",
      " 58  GarageFinish   1460 non-null   object \n",
      " 59  GarageCars     1460 non-null   int64  \n",
      " 60  GarageArea     1460 non-null   int64  \n",
      " 61  GarageQual     1460 non-null   object \n",
      " 62  GarageCond     1460 non-null   object \n",
      " 63  PavedDrive     1460 non-null   object \n",
      " 64  WoodDeckSF     1460 non-null   int64  \n",
      " 65  OpenPorchSF    1460 non-null   int64  \n",
      " 66  EnclosedPorch  1460 non-null   int64  \n",
      " 67  3SsnPorch      1460 non-null   int64  \n",
      " 68  ScreenPorch    1460 non-null   int64  \n",
      " 69  PoolArea       1460 non-null   int64  \n",
      " 70  MiscVal        1460 non-null   int64  \n",
      " 71  MoSold         1460 non-null   int64  \n",
      " 72  YrSold         1460 non-null   int64  \n",
      " 73  SaleType       1460 non-null   object \n",
      " 74  SaleCondition  1460 non-null   object \n",
      " 75  SalePrice      1460 non-null   int64  \n",
      "dtypes: float64(3), int64(35), object(38)\n",
      "memory usage: 867.0+ KB\n"
     ]
    }
   ],
   "source": [
    "df.info()"
   ]
  },
  {
   "cell_type": "markdown",
   "id": "8570b431",
   "metadata": {},
   "source": [
    "#### Exploring the data distributions and outlier treatments"
   ]
  },
  {
   "cell_type": "code",
   "execution_count": 47,
   "id": "c3ecd19f",
   "metadata": {},
   "outputs": [
    {
     "data": {
      "image/png": "[encoded data removed]",
      "text/plain": [
       "<Figure size 1152x288 with 1 Axes>"
      ]
     },
     "metadata": {
      "needs_background": "light"
     },
     "output_type": "display_data"
    }
   ],
   "source": [
    "# Visualizing the data distribution\n",
    "\n",
    "plt.figure(figsize=(16,4))\n",
    "\n",
    "sns.boxplot('LotFrontage', data=df);"
   ]
  },
  {
   "cell_type": "code",
   "execution_count": 48,
   "id": "35d4b2e2",
   "metadata": {},
   "outputs": [
    {
     "name": "stdout",
     "output_type": "stream",
     "text": [
      "[ 60.    69.    79.    92.   104.   137.41]\n"
     ]
    }
   ],
   "source": [
    "print(np.percentile(df['LotFrontage'], [25, 50, 75, 90, 95, 99]))"
   ]
  },
  {
   "cell_type": "code",
   "execution_count": 49,
   "id": "a57009d6",
   "metadata": {},
   "outputs": [
    {
     "data": {
      "image/png": "[encoded data removed]",
      "text/plain": [
       "<Figure size 1152x288 with 1 Axes>"
      ]
     },
     "metadata": {
      "needs_background": "light"
     },
     "output_type": "display_data"
    }
   ],
   "source": [
    "# Capping the value to 99 percentile\n",
    "\n",
    "df['LotFrontage'] = np.where(df['LotFrontage'] > np.percentile(df['LotFrontage'],99), np.percentile(df['LotFrontage'],99), df['LotFrontage'])\n",
    "\n",
    "plt.figure(figsize=(16,4))\n",
    "sns.boxplot('LotFrontage', data=df);"
   ]
  },
  {
   "cell_type": "code",
   "execution_count": 50,
   "id": "325d76a8",
   "metadata": {},
   "outputs": [
    {
     "data": {
      "image/png": "[encoded data removed]",
      "text/plain": [
       "<Figure size 432x288 with 1 Axes>"
      ]
     },
     "metadata": {
      "needs_background": "light"
     },
     "output_type": "display_data"
    }
   ],
   "source": [
    "sns.distplot(df.LotFrontage);"
   ]
  },
  {
   "cell_type": "markdown",
   "id": "7b477ede",
   "metadata": {},
   "source": [
    "The data is now fairly in normal distribution."
   ]
  },
  {
   "cell_type": "code",
   "execution_count": 51,
   "id": "50986b02",
   "metadata": {},
   "outputs": [
    {
     "data": {
      "image/png": "[encoded data removed]",
      "text/plain": [
       "<Figure size 1152x288 with 1 Axes>"
      ]
     },
     "metadata": {
      "needs_background": "light"
     },
     "output_type": "display_data"
    }
   ],
   "source": [
    "# Visualizing the data distribution\n",
    "\n",
    "plt.figure(figsize=(16,4))\n",
    "\n",
    "sns.boxplot('LotArea', data=df);"
   ]
  },
  {
   "cell_type": "code",
   "execution_count": 52,
   "id": "4e23a0b9",
   "metadata": {},
   "outputs": [
    {
     "name": "stdout",
     "output_type": "stream",
     "text": [
      "[ 7553.5   9478.5  11601.5  14381.7  17401.15 37567.64]\n"
     ]
    }
   ],
   "source": [
    "print(np.percentile(df['LotArea'], [25, 50, 75, 90, 95, 99]))"
   ]
  },
  {
   "cell_type": "code",
   "execution_count": 53,
   "id": "ae662261",
   "metadata": {},
   "outputs": [
    {
     "data": {
      "image/png": "[encoded data removed]",
      "text/plain": [
       "<Figure size 1152x288 with 1 Axes>"
      ]
     },
     "metadata": {
      "needs_background": "light"
     },
     "output_type": "display_data"
    }
   ],
   "source": [
    "# Capping the value to 95 percentile\n",
    "\n",
    "df['LotArea'] = np.where(df['LotArea'] > np.percentile(df['LotArea'],99), np.percentile(df['LotArea'],99), df['LotArea'])\n",
    "\n",
    "plt.figure(figsize=(16,4))\n",
    "sns.boxplot('LotArea', data=df);"
   ]
  },
  {
   "cell_type": "code",
   "execution_count": 54,
   "id": "99202bc8",
   "metadata": {},
   "outputs": [
    {
     "data": {
      "image/png": "[encoded data removed]",
      "text/plain": [
       "<Figure size 432x288 with 1 Axes>"
      ]
     },
     "metadata": {
      "needs_background": "light"
     },
     "output_type": "display_data"
    }
   ],
   "source": [
    "sns.distplot(df.LotArea);"
   ]
  },
  {
   "cell_type": "markdown",
   "id": "0b5b1987",
   "metadata": {},
   "source": [
    "The data is now fairly in normal distribution."
   ]
  },
  {
   "cell_type": "code",
   "execution_count": 55,
   "id": "16916182",
   "metadata": {},
   "outputs": [
    {
     "data": {
      "image/png": "[encoded data removed]",
      "text/plain": [
       "<Figure size 1152x288 with 1 Axes>"
      ]
     },
     "metadata": {
      "needs_background": "light"
     },
     "output_type": "display_data"
    }
   ],
   "source": [
    "# Visualizing the data distribution\n",
    "\n",
    "plt.figure(figsize=(16,4))\n",
    "\n",
    "sns.boxplot('MasVnrArea', data=df);"
   ]
  },
  {
   "cell_type": "code",
   "execution_count": 56,
   "id": "2ad886f3",
   "metadata": {},
   "outputs": [
    {
     "name": "stdout",
     "output_type": "stream",
     "text": [
      "[  0.     0.   164.25 335.   456.   791.28]\n"
     ]
    }
   ],
   "source": [
    "print(np.percentile(df['MasVnrArea'], [25, 50, 75, 90, 95, 99]))"
   ]
  },
  {
   "cell_type": "code",
   "execution_count": 57,
   "id": "333852be",
   "metadata": {},
   "outputs": [
    {
     "data": {
      "image/png": "[encoded data removed]",
      "text/plain": [
       "<Figure size 1152x288 with 1 Axes>"
      ]
     },
     "metadata": {
      "needs_background": "light"
     },
     "output_type": "display_data"
    }
   ],
   "source": [
    "# Capping the value to 99 percentile\n",
    "\n",
    "df['MasVnrArea'] = np.where(df['MasVnrArea'] > np.percentile(df['MasVnrArea'], 99), np.percentile(df['MasVnrArea'], 99), df['MasVnrArea'])\n",
    "\n",
    "plt.figure(figsize=(16,4))\n",
    "\n",
    "sns.boxplot('MasVnrArea', data=df);"
   ]
  },
  {
   "cell_type": "code",
   "execution_count": 58,
   "id": "57f4ea20",
   "metadata": {},
   "outputs": [
    {
     "data": {
      "image/png": "[encoded data removed]",
      "text/plain": [
       "<Figure size 432x288 with 1 Axes>"
      ]
     },
     "metadata": {
      "needs_background": "light"
     },
     "output_type": "display_data"
    }
   ],
   "source": [
    "sns.distplot(df.MasVnrArea);"
   ]
  },
  {
   "cell_type": "markdown",
   "id": "0a121dec",
   "metadata": {},
   "source": [
    "The data is right skewed."
   ]
  },
  {
   "cell_type": "code",
   "execution_count": 59,
   "id": "fb9512eb",
   "metadata": {
    "scrolled": true
   },
   "outputs": [
    {
     "data": {
      "image/png": "[encoded data removed]",
      "text/plain": [
       "<Figure size 1152x288 with 1 Axes>"
      ]
     },
     "metadata": {
      "needs_background": "light"
     },
     "output_type": "display_data"
    }
   ],
   "source": [
    "# Visualizing the data distribution\n",
    "\n",
    "plt.figure(figsize=(16,4))\n",
    "\n",
    "sns.boxplot('BsmtFinSF1', data=df);"
   ]
  },
  {
   "cell_type": "code",
   "execution_count": 60,
   "id": "6cc55062",
   "metadata": {},
   "outputs": [
    {
     "name": "stdout",
     "output_type": "stream",
     "text": [
      "[   0.    383.5   712.25 1065.5  1274.   1572.41]\n"
     ]
    }
   ],
   "source": [
    "print(np.percentile(df['BsmtFinSF1'], [25, 50, 75, 90, 95, 99]))"
   ]
  },
  {
   "cell_type": "code",
   "execution_count": 61,
   "id": "b6d6e74f",
   "metadata": {},
   "outputs": [
    {
     "data": {
      "text/plain": [
       "1780.625"
      ]
     },
     "execution_count": 61,
     "metadata": {},
     "output_type": "execute_result"
    }
   ],
   "source": [
    "Q1 = df['BsmtFinSF1'].quantile(0.25)\n",
    "Q3 = df['BsmtFinSF1'].quantile(0.75)\n",
    "IQR = Q3 - Q1\n",
    "\n",
    "upper_iqr = Q3 + (1.5 * IQR)\n",
    "upper_iqr"
   ]
  },
  {
   "cell_type": "code",
   "execution_count": 62,
   "id": "13256411",
   "metadata": {},
   "outputs": [],
   "source": [
    "# The few outlier values are ignored and replaced with upper IQR value\n",
    "\n",
    "df['BsmtFinSF1'] = df['BsmtFinSF1'].apply(lambda x: 1780.625 if x > 1780.625 else x)"
   ]
  },
  {
   "cell_type": "code",
   "execution_count": 63,
   "id": "a24c6141",
   "metadata": {},
   "outputs": [
    {
     "data": {
      "image/png": "[encoded data removed]",
      "text/plain": [
       "<Figure size 1152x288 with 1 Axes>"
      ]
     },
     "metadata": {
      "needs_background": "light"
     },
     "output_type": "display_data"
    }
   ],
   "source": [
    "plt.figure(figsize=(16,4))\n",
    "\n",
    "sns.boxplot('BsmtFinSF1', data=df);"
   ]
  },
  {
   "cell_type": "code",
   "execution_count": 64,
   "id": "df6ef807",
   "metadata": {},
   "outputs": [
    {
     "data": {
      "image/png": "[encoded data removed]",
      "text/plain": [
       "<Figure size 432x288 with 1 Axes>"
      ]
     },
     "metadata": {
      "needs_background": "light"
     },
     "output_type": "display_data"
    }
   ],
   "source": [
    "sns.distplot(df.BsmtFinSF1);"
   ]
  },
  {
   "cell_type": "markdown",
   "id": "f38ea215",
   "metadata": {},
   "source": [
    "The data is right skewed."
   ]
  },
  {
   "cell_type": "code",
   "execution_count": 65,
   "id": "808db6cb",
   "metadata": {},
   "outputs": [
    {
     "data": {
      "image/png": "[encoded data removed]",
      "text/plain": [
       "<Figure size 1152x288 with 1 Axes>"
      ]
     },
     "metadata": {
      "needs_background": "light"
     },
     "output_type": "display_data"
    }
   ],
   "source": [
    "# Visualizing the data distribution\n",
    "\n",
    "plt.figure(figsize=(16,4))\n",
    "\n",
    "sns.boxplot('BsmtFinSF2', data=df);"
   ]
  },
  {
   "cell_type": "code",
   "execution_count": 66,
   "id": "33c93e0e",
   "metadata": {},
   "outputs": [
    {
     "name": "stdout",
     "output_type": "stream",
     "text": [
      "[  0.     0.     0.   117.2  396.2  830.38]\n"
     ]
    }
   ],
   "source": [
    "print(np.percentile(df['BsmtFinSF2'], [25, 50, 75, 90, 95, 99]))"
   ]
  },
  {
   "cell_type": "code",
   "execution_count": 67,
   "id": "bdb45721",
   "metadata": {},
   "outputs": [
    {
     "data": {
      "image/png": "[encoded data removed]",
      "text/plain": [
       "<Figure size 1152x288 with 1 Axes>"
      ]
     },
     "metadata": {
      "needs_background": "light"
     },
     "output_type": "display_data"
    }
   ],
   "source": [
    "# Capping the value to 99 percentile\n",
    "\n",
    "df['BsmtFinSF2'] = np.where(df['BsmtFinSF2'] > np.percentile(df['BsmtFinSF2'], 99), np.percentile(df['BsmtFinSF2'], 99), df['BsmtFinSF2'])\n",
    "\n",
    "\n",
    "plt.figure(figsize=(16,4))\n",
    "\n",
    "sns.boxplot('BsmtFinSF2', data=df);"
   ]
  },
  {
   "cell_type": "code",
   "execution_count": 68,
   "id": "4ee69e54",
   "metadata": {},
   "outputs": [
    {
     "data": {
      "image/png": "[encoded data removed]",
      "text/plain": [
       "<Figure size 432x288 with 1 Axes>"
      ]
     },
     "metadata": {
      "needs_background": "light"
     },
     "output_type": "display_data"
    }
   ],
   "source": [
    "sns.distplot(df.BsmtFinSF2);"
   ]
  },
  {
   "cell_type": "markdown",
   "id": "d886b662",
   "metadata": {},
   "source": [
    "The data is largely concentrated on '0' value."
   ]
  },
  {
   "cell_type": "code",
   "execution_count": 69,
   "id": "d7fbe5bb",
   "metadata": {},
   "outputs": [
    {
     "data": {
      "image/png": "[encoded data removed]",
      "text/plain": [
       "<Figure size 1152x288 with 1 Axes>"
      ]
     },
     "metadata": {
      "needs_background": "light"
     },
     "output_type": "display_data"
    }
   ],
   "source": [
    "# Visualizing the data distribution\n",
    "\n",
    "plt.figure(figsize=(16,4))\n",
    "\n",
    "sns.boxplot('BsmtUnfSF', data=df);"
   ]
  },
  {
   "cell_type": "code",
   "execution_count": 70,
   "id": "7a3e2138",
   "metadata": {},
   "outputs": [
    {
     "name": "stdout",
     "output_type": "stream",
     "text": [
      "[ 223.    477.5   808.   1232.   1468.   1797.05]\n"
     ]
    }
   ],
   "source": [
    "print(np.percentile(df['BsmtUnfSF'], [25, 50, 75, 90, 95, 99]))"
   ]
  },
  {
   "cell_type": "code",
   "execution_count": 71,
   "id": "222d1afb",
   "metadata": {},
   "outputs": [
    {
     "data": {
      "image/png": "[encoded data removed]",
      "text/plain": [
       "<Figure size 1152x288 with 1 Axes>"
      ]
     },
     "metadata": {
      "needs_background": "light"
     },
     "output_type": "display_data"
    }
   ],
   "source": [
    "# Capping the value to 99 percentile\n",
    "\n",
    "df['BsmtUnfSF'] = np.where(df['BsmtUnfSF'] > np.percentile(df['BsmtUnfSF'], 99), np.percentile(df['BsmtUnfSF'], 99), df['BsmtUnfSF'])\n",
    "\n",
    "\n",
    "plt.figure(figsize=(16,4))\n",
    "\n",
    "sns.boxplot('BsmtUnfSF', data=df);"
   ]
  },
  {
   "cell_type": "code",
   "execution_count": 72,
   "id": "86b4428d",
   "metadata": {},
   "outputs": [
    {
     "data": {
      "image/png": "[encoded data removed]",
      "text/plain": [
       "<Figure size 432x288 with 1 Axes>"
      ]
     },
     "metadata": {
      "needs_background": "light"
     },
     "output_type": "display_data"
    }
   ],
   "source": [
    "sns.distplot(df.BsmtUnfSF);"
   ]
  },
  {
   "cell_type": "markdown",
   "id": "4347efbf",
   "metadata": {},
   "source": [
    "The data is right skewed."
   ]
  },
  {
   "cell_type": "code",
   "execution_count": 73,
   "id": "b770c6c7",
   "metadata": {},
   "outputs": [
    {
     "data": {
      "image/png": "[encoded data removed]",
      "text/plain": [
       "<Figure size 1152x288 with 1 Axes>"
      ]
     },
     "metadata": {
      "needs_background": "light"
     },
     "output_type": "display_data"
    }
   ],
   "source": [
    "# Visualizing the data distribution\n",
    "\n",
    "plt.figure(figsize=(16,4))\n",
    "\n",
    "sns.boxplot('TotalBsmtSF', data=df);"
   ]
  },
  {
   "cell_type": "code",
   "execution_count": 74,
   "id": "b781396c",
   "metadata": {},
   "outputs": [
    {
     "name": "stdout",
     "output_type": "stream",
     "text": [
      "[ 795.75  991.5  1298.25 1602.2  1753.   2155.05]\n"
     ]
    }
   ],
   "source": [
    "print(np.percentile(df['TotalBsmtSF'], [25, 50, 75, 90, 95, 99]))"
   ]
  },
  {
   "cell_type": "code",
   "execution_count": 75,
   "id": "98598df3",
   "metadata": {},
   "outputs": [
    {
     "data": {
      "image/png": "[encoded data removed]",
      "text/plain": [
       "<Figure size 1152x288 with 1 Axes>"
      ]
     },
     "metadata": {
      "needs_background": "light"
     },
     "output_type": "display_data"
    }
   ],
   "source": [
    "# Capping the value to 99 percentile\n",
    "\n",
    "df['TotalBsmtSF'] = np.where(df['TotalBsmtSF'] > np.percentile(df['TotalBsmtSF'], 99), np.percentile(df['TotalBsmtSF'], 99), df['TotalBsmtSF'])\n",
    "\n",
    "plt.figure(figsize=(16,4))\n",
    "\n",
    "sns.boxplot('TotalBsmtSF', data=df);"
   ]
  },
  {
   "cell_type": "code",
   "execution_count": 76,
   "id": "a029fe00",
   "metadata": {},
   "outputs": [
    {
     "data": {
      "image/png": "[encoded data removed]",
      "text/plain": [
       "<Figure size 432x288 with 1 Axes>"
      ]
     },
     "metadata": {
      "needs_background": "light"
     },
     "output_type": "display_data"
    }
   ],
   "source": [
    "sns.distplot(df.TotalBsmtSF);"
   ]
  },
  {
   "cell_type": "markdown",
   "id": "97bfdfdd",
   "metadata": {},
   "source": [
    "The data is fairly in normal distribution."
   ]
  },
  {
   "cell_type": "code",
   "execution_count": 77,
   "id": "6bfcb63a",
   "metadata": {},
   "outputs": [
    {
     "data": {
      "image/png": "[encoded data removed]",
      "text/plain": [
       "<Figure size 1152x288 with 1 Axes>"
      ]
     },
     "metadata": {
      "needs_background": "light"
     },
     "output_type": "display_data"
    }
   ],
   "source": [
    "# Visualizing the data distribution\n",
    "\n",
    "plt.figure(figsize=(16,4))\n",
    "\n",
    "sns.boxplot('1stFlrSF', data=df);"
   ]
  },
  {
   "cell_type": "code",
   "execution_count": 78,
   "id": "855d0a3f",
   "metadata": {},
   "outputs": [
    {
     "name": "stdout",
     "output_type": "stream",
     "text": [
      "[ 882.   1087.   1391.25 1680.   1831.25 2219.46]\n"
     ]
    }
   ],
   "source": [
    "print(np.percentile(df['1stFlrSF'], [25, 50, 75, 90, 95, 99]))"
   ]
  },
  {
   "cell_type": "code",
   "execution_count": 79,
   "id": "80f779a2",
   "metadata": {},
   "outputs": [
    {
     "data": {
      "image/png": "[encoded data removed]",
      "text/plain": [
       "<Figure size 1152x288 with 1 Axes>"
      ]
     },
     "metadata": {
      "needs_background": "light"
     },
     "output_type": "display_data"
    }
   ],
   "source": [
    "# Capping the value to 99 percentile\n",
    "\n",
    "df['1stFlrSF'] = np.where(df['1stFlrSF'] > np.percentile(df['1stFlrSF'], 99), np.percentile(df['1stFlrSF'], 99), df['1stFlrSF'])\n",
    "\n",
    "plt.figure(figsize=(16,4))\n",
    "\n",
    "sns.boxplot('1stFlrSF', data=df);"
   ]
  },
  {
   "cell_type": "code",
   "execution_count": 80,
   "id": "5c5294f0",
   "metadata": {},
   "outputs": [
    {
     "data": {
      "image/png": "[encoded data removed]",
      "text/plain": [
       "<Figure size 432x288 with 1 Axes>"
      ]
     },
     "metadata": {
      "needs_background": "light"
     },
     "output_type": "display_data"
    }
   ],
   "source": [
    "sns.distplot(df['1stFlrSF']);"
   ]
  },
  {
   "cell_type": "markdown",
   "id": "5031501e",
   "metadata": {},
   "source": [
    "The data is fairly in normal distribution."
   ]
  },
  {
   "cell_type": "code",
   "execution_count": 81,
   "id": "0ee8c51f",
   "metadata": {},
   "outputs": [
    {
     "data": {
      "image/png": "[encoded data removed]",
      "text/plain": [
       "<Figure size 1152x288 with 1 Axes>"
      ]
     },
     "metadata": {
      "needs_background": "light"
     },
     "output_type": "display_data"
    }
   ],
   "source": [
    "# Visualizing the data distribution\n",
    "\n",
    "plt.figure(figsize=(16,4))\n",
    "\n",
    "sns.boxplot('2ndFlrSF', data=df);"
   ]
  },
  {
   "cell_type": "code",
   "execution_count": 82,
   "id": "cb19a234",
   "metadata": {},
   "outputs": [
    {
     "data": {
      "text/plain": [
       "1820.0"
      ]
     },
     "execution_count": 82,
     "metadata": {},
     "output_type": "execute_result"
    }
   ],
   "source": [
    "Q1 = df['2ndFlrSF'].quantile(0.25)\n",
    "Q3 = df['2ndFlrSF'].quantile(0.75)\n",
    "IQR = Q3 - Q1\n",
    "\n",
    "upper_iqr = Q3 + (1.5 * IQR)\n",
    "upper_iqr"
   ]
  },
  {
   "cell_type": "code",
   "execution_count": 83,
   "id": "da66aca1",
   "metadata": {},
   "outputs": [],
   "source": [
    "# The few outlier values are ignored and replaced with upper IQR value\n",
    "\n",
    "df['2ndFlrSF'] = df['2ndFlrSF'].apply(lambda x: 1820.0 if x > 1820.0 else x)"
   ]
  },
  {
   "cell_type": "code",
   "execution_count": 84,
   "id": "f2acd2cc",
   "metadata": {},
   "outputs": [
    {
     "data": {
      "image/png": "[encoded data removed]",
      "text/plain": [
       "<Figure size 1152x288 with 1 Axes>"
      ]
     },
     "metadata": {
      "needs_background": "light"
     },
     "output_type": "display_data"
    }
   ],
   "source": [
    "plt.figure(figsize=(16,4))\n",
    "\n",
    "sns.boxplot('2ndFlrSF', data=df);"
   ]
  },
  {
   "cell_type": "code",
   "execution_count": 85,
   "id": "5ec98ff5",
   "metadata": {},
   "outputs": [
    {
     "data": {
      "image/png": "[encoded data removed]",
      "text/plain": [
       "<Figure size 432x288 with 1 Axes>"
      ]
     },
     "metadata": {
      "needs_background": "light"
     },
     "output_type": "display_data"
    }
   ],
   "source": [
    "sns.distplot(df['2ndFlrSF']);"
   ]
  },
  {
   "cell_type": "markdown",
   "id": "a499a2d8",
   "metadata": {},
   "source": [
    "The data is largely concentrated on '0' and is right skewed."
   ]
  },
  {
   "cell_type": "code",
   "execution_count": 86,
   "id": "1a23a904",
   "metadata": {},
   "outputs": [
    {
     "data": {
      "image/png": "[encoded data removed]",
      "text/plain": [
       "<Figure size 1152x288 with 1 Axes>"
      ]
     },
     "metadata": {
      "needs_background": "light"
     },
     "output_type": "display_data"
    }
   ],
   "source": [
    "# Visualizing the data distribution\n",
    "\n",
    "plt.figure(figsize=(16,4))\n",
    "\n",
    "sns.boxplot('LowQualFinSF', data=df);"
   ]
  },
  {
   "cell_type": "code",
   "execution_count": 87,
   "id": "2c64781c",
   "metadata": {},
   "outputs": [
    {
     "name": "stdout",
     "output_type": "stream",
     "text": [
      "[  0.   0.   0.   0.   0. 360.]\n"
     ]
    }
   ],
   "source": [
    "print(np.percentile(df['LowQualFinSF'], [25, 50, 75, 90, 95, 99]))"
   ]
  },
  {
   "cell_type": "code",
   "execution_count": 88,
   "id": "d88b72a5",
   "metadata": {},
   "outputs": [],
   "source": [
    "# Since majority of values are '0' only. The column is dropped.\n",
    "\n",
    "df.drop(['LowQualFinSF'], axis=1, inplace=True)"
   ]
  },
  {
   "cell_type": "code",
   "execution_count": 89,
   "id": "3630331d",
   "metadata": {},
   "outputs": [
    {
     "data": {
      "image/png": "[encoded data removed]",
      "text/plain": [
       "<Figure size 1152x288 with 1 Axes>"
      ]
     },
     "metadata": {
      "needs_background": "light"
     },
     "output_type": "display_data"
    }
   ],
   "source": [
    "# Visualizing the data distribution\n",
    "\n",
    "plt.figure(figsize=(16,4))\n",
    "\n",
    "sns.boxplot('GrLivArea', data=df);"
   ]
  },
  {
   "cell_type": "code",
   "execution_count": 90,
   "id": "aa80b286",
   "metadata": {},
   "outputs": [
    {
     "name": "stdout",
     "output_type": "stream",
     "text": [
      "[1129.5  1464.   1776.75 2158.3  2466.1  3123.48]\n"
     ]
    }
   ],
   "source": [
    "print(np.percentile(df['GrLivArea'], [25, 50, 75, 90, 95, 99]))"
   ]
  },
  {
   "cell_type": "code",
   "execution_count": 91,
   "id": "8ba15c35",
   "metadata": {},
   "outputs": [
    {
     "data": {
      "image/png": "[encoded data removed]",
      "text/plain": [
       "<Figure size 1152x288 with 1 Axes>"
      ]
     },
     "metadata": {
      "needs_background": "light"
     },
     "output_type": "display_data"
    }
   ],
   "source": [
    "# Capping the value to 99 percentile\n",
    "\n",
    "df['GrLivArea'] = np.where(df['GrLivArea'] > np.percentile(df['GrLivArea'], 99), np.percentile(df['GrLivArea'], 99), df['GrLivArea'])\n",
    "\n",
    "plt.figure(figsize=(16,4))\n",
    "\n",
    "sns.boxplot('GrLivArea', data=df);"
   ]
  },
  {
   "cell_type": "code",
   "execution_count": 92,
   "id": "f35deadd",
   "metadata": {},
   "outputs": [
    {
     "data": {
      "image/png": "[encoded data removed]",
      "text/plain": [
       "<Figure size 432x288 with 1 Axes>"
      ]
     },
     "metadata": {
      "needs_background": "light"
     },
     "output_type": "display_data"
    }
   ],
   "source": [
    "sns.distplot(df.GrLivArea);"
   ]
  },
  {
   "cell_type": "markdown",
   "id": "1c1d4126",
   "metadata": {},
   "source": [
    "The data is fairly in normal distribution."
   ]
  },
  {
   "cell_type": "code",
   "execution_count": 93,
   "id": "423c2d2d",
   "metadata": {},
   "outputs": [
    {
     "data": {
      "text/plain": [
       "0    856\n",
       "1    588\n",
       "2     15\n",
       "3      1\n",
       "Name: BsmtFullBath, dtype: int64"
      ]
     },
     "execution_count": 93,
     "metadata": {},
     "output_type": "execute_result"
    }
   ],
   "source": [
    "df.BsmtFullBath.value_counts()"
   ]
  },
  {
   "cell_type": "code",
   "execution_count": 94,
   "id": "64bcb33b",
   "metadata": {},
   "outputs": [
    {
     "data": {
      "text/plain": [
       "0    1378\n",
       "1      80\n",
       "2       2\n",
       "Name: BsmtHalfBath, dtype: int64"
      ]
     },
     "execution_count": 94,
     "metadata": {},
     "output_type": "execute_result"
    }
   ],
   "source": [
    "df.BsmtHalfBath.value_counts()"
   ]
  },
  {
   "cell_type": "code",
   "execution_count": 95,
   "id": "f164102a",
   "metadata": {},
   "outputs": [
    {
     "data": {
      "text/plain": [
       "2    768\n",
       "1    650\n",
       "3     33\n",
       "0      9\n",
       "Name: FullBath, dtype: int64"
      ]
     },
     "execution_count": 95,
     "metadata": {},
     "output_type": "execute_result"
    }
   ],
   "source": [
    "df.FullBath.value_counts()"
   ]
  },
  {
   "cell_type": "code",
   "execution_count": 96,
   "id": "0ad5e04c",
   "metadata": {},
   "outputs": [
    {
     "data": {
      "text/plain": [
       "0    913\n",
       "1    535\n",
       "2     12\n",
       "Name: HalfBath, dtype: int64"
      ]
     },
     "execution_count": 96,
     "metadata": {},
     "output_type": "execute_result"
    }
   ],
   "source": [
    "df.HalfBath.value_counts()"
   ]
  },
  {
   "cell_type": "code",
   "execution_count": 97,
   "id": "df8e38bd",
   "metadata": {},
   "outputs": [
    {
     "data": {
      "text/plain": [
       "3    804\n",
       "2    358\n",
       "4    213\n",
       "1     50\n",
       "5     21\n",
       "6      7\n",
       "0      6\n",
       "8      1\n",
       "Name: BedroomAbvGr, dtype: int64"
      ]
     },
     "execution_count": 97,
     "metadata": {},
     "output_type": "execute_result"
    }
   ],
   "source": [
    "df.BedroomAbvGr.value_counts()"
   ]
  },
  {
   "cell_type": "code",
   "execution_count": 98,
   "id": "d7f0c844",
   "metadata": {},
   "outputs": [
    {
     "data": {
      "text/plain": [
       "1    1392\n",
       "2      65\n",
       "3       2\n",
       "0       1\n",
       "Name: KitchenAbvGr, dtype: int64"
      ]
     },
     "execution_count": 98,
     "metadata": {},
     "output_type": "execute_result"
    }
   ],
   "source": [
    "df.KitchenAbvGr.value_counts()"
   ]
  },
  {
   "cell_type": "code",
   "execution_count": 99,
   "id": "82273946",
   "metadata": {},
   "outputs": [
    {
     "data": {
      "text/plain": [
       "6     402\n",
       "7     329\n",
       "5     275\n",
       "8     187\n",
       "4      97\n",
       "9      75\n",
       "10     47\n",
       "11     18\n",
       "3      17\n",
       "12     11\n",
       "2       1\n",
       "14      1\n",
       "Name: TotRmsAbvGrd, dtype: int64"
      ]
     },
     "execution_count": 99,
     "metadata": {},
     "output_type": "execute_result"
    }
   ],
   "source": [
    "df.TotRmsAbvGrd.value_counts()"
   ]
  },
  {
   "cell_type": "code",
   "execution_count": 100,
   "id": "65b53918",
   "metadata": {},
   "outputs": [
    {
     "data": {
      "text/plain": [
       "0    690\n",
       "1    650\n",
       "2    115\n",
       "3      5\n",
       "Name: Fireplaces, dtype: int64"
      ]
     },
     "execution_count": 100,
     "metadata": {},
     "output_type": "execute_result"
    }
   ],
   "source": [
    "df.Fireplaces.value_counts()"
   ]
  },
  {
   "cell_type": "code",
   "execution_count": 101,
   "id": "06b94e12",
   "metadata": {},
   "outputs": [
    {
     "data": {
      "text/plain": [
       "2    824\n",
       "1    369\n",
       "3    181\n",
       "0     81\n",
       "4      5\n",
       "Name: GarageCars, dtype: int64"
      ]
     },
     "execution_count": 101,
     "metadata": {},
     "output_type": "execute_result"
    }
   ],
   "source": [
    "df.GarageCars.value_counts()"
   ]
  },
  {
   "cell_type": "code",
   "execution_count": 102,
   "id": "b2f7713c",
   "metadata": {},
   "outputs": [
    {
     "data": {
      "image/png": "[encoded data removed]",
      "text/plain": [
       "<Figure size 1152x288 with 1 Axes>"
      ]
     },
     "metadata": {
      "needs_background": "light"
     },
     "output_type": "display_data"
    }
   ],
   "source": [
    "# Visualizing the data distribution\n",
    "\n",
    "plt.figure(figsize=(16,4))\n",
    "\n",
    "sns.boxplot('GarageArea', data=df);"
   ]
  },
  {
   "cell_type": "code",
   "execution_count": 103,
   "id": "86dfc59f",
   "metadata": {},
   "outputs": [
    {
     "name": "stdout",
     "output_type": "stream",
     "text": [
      "[ 334.5   480.    576.    757.1   850.1  1002.79]\n"
     ]
    }
   ],
   "source": [
    "print(np.percentile(df['GarageArea'], [25, 50, 75, 90, 95, 99]))"
   ]
  },
  {
   "cell_type": "code",
   "execution_count": 104,
   "id": "1a96718d",
   "metadata": {},
   "outputs": [
    {
     "data": {
      "image/png": "[encoded data removed]",
      "text/plain": [
       "<Figure size 1152x288 with 1 Axes>"
      ]
     },
     "metadata": {
      "needs_background": "light"
     },
     "output_type": "display_data"
    }
   ],
   "source": [
    "# Capping the value to 99 percentile\n",
    "\n",
    "df['GarageArea'] = np.where(df['GarageArea'] > np.percentile(df['GarageArea'], 99), np.percentile(df['GarageArea'], 99), df['GarageArea'])\n",
    "\n",
    "plt.figure(figsize=(16,4))\n",
    "\n",
    "sns.boxplot('GarageArea', data=df);"
   ]
  },
  {
   "cell_type": "code",
   "execution_count": 105,
   "id": "e527f44a",
   "metadata": {},
   "outputs": [
    {
     "data": {
      "image/png": "[encoded data removed]",
      "text/plain": [
       "<Figure size 432x288 with 1 Axes>"
      ]
     },
     "metadata": {
      "needs_background": "light"
     },
     "output_type": "display_data"
    }
   ],
   "source": [
    "sns.distplot(df.GarageArea);"
   ]
  },
  {
   "cell_type": "markdown",
   "id": "ebf13935",
   "metadata": {},
   "source": [
    "The data is fairly in normal distribution."
   ]
  },
  {
   "cell_type": "code",
   "execution_count": 106,
   "id": "45fa9c73",
   "metadata": {},
   "outputs": [
    {
     "data": {
      "image/png": "[encoded data removed]",
      "text/plain": [
       "<Figure size 1152x288 with 1 Axes>"
      ]
     },
     "metadata": {
      "needs_background": "light"
     },
     "output_type": "display_data"
    }
   ],
   "source": [
    "# Visualizing the data distribution\n",
    "\n",
    "plt.figure(figsize=(16,4))\n",
    "\n",
    "sns.boxplot('WoodDeckSF', data=df);"
   ]
  },
  {
   "cell_type": "code",
   "execution_count": 107,
   "id": "80fd7abb",
   "metadata": {},
   "outputs": [
    {
     "name": "stdout",
     "output_type": "stream",
     "text": [
      "[  0.     0.   168.   262.   335.   505.46]\n"
     ]
    }
   ],
   "source": [
    "print(np.percentile(df['WoodDeckSF'], [25, 50, 75, 90, 95, 99]))"
   ]
  },
  {
   "cell_type": "code",
   "execution_count": 108,
   "id": "66dab111",
   "metadata": {},
   "outputs": [
    {
     "data": {
      "image/png": "[encoded data removed]",
      "text/plain": [
       "<Figure size 1152x288 with 1 Axes>"
      ]
     },
     "metadata": {
      "needs_background": "light"
     },
     "output_type": "display_data"
    }
   ],
   "source": [
    "# Capping the value to 99 percentile\n",
    "\n",
    "df['WoodDeckSF'] = np.where(df['WoodDeckSF'] > np.percentile(df['WoodDeckSF'], 99), np.percentile(df['WoodDeckSF'], 99), df['WoodDeckSF'])\n",
    "\n",
    "plt.figure(figsize=(16,4))\n",
    "\n",
    "sns.boxplot('WoodDeckSF', data=df);"
   ]
  },
  {
   "cell_type": "code",
   "execution_count": 109,
   "id": "870c466e",
   "metadata": {},
   "outputs": [
    {
     "data": {
      "image/png": "[encoded data removed]",
      "text/plain": [
       "<Figure size 432x288 with 1 Axes>"
      ]
     },
     "metadata": {
      "needs_background": "light"
     },
     "output_type": "display_data"
    }
   ],
   "source": [
    "sns.distplot(df.WoodDeckSF);"
   ]
  },
  {
   "cell_type": "markdown",
   "id": "1445a5f0",
   "metadata": {},
   "source": [
    "The distribution is largely concentrated on '0' value and positive skewness."
   ]
  },
  {
   "cell_type": "code",
   "execution_count": 110,
   "id": "9fb1c417",
   "metadata": {},
   "outputs": [
    {
     "data": {
      "image/png": "[encoded data removed]",
      "text/plain": [
       "<Figure size 1152x288 with 1 Axes>"
      ]
     },
     "metadata": {
      "needs_background": "light"
     },
     "output_type": "display_data"
    }
   ],
   "source": [
    "# Visualizing the data distribution\n",
    "\n",
    "plt.figure(figsize=(16,4))\n",
    "\n",
    "sns.boxplot('OpenPorchSF', data=df);"
   ]
  },
  {
   "cell_type": "code",
   "execution_count": 111,
   "id": "657e2238",
   "metadata": {},
   "outputs": [
    {
     "name": "stdout",
     "output_type": "stream",
     "text": [
      "[  0.    25.    68.   130.   175.05 285.82]\n"
     ]
    }
   ],
   "source": [
    "print(np.percentile(df['OpenPorchSF'], [25, 50, 75, 90, 95, 99]))"
   ]
  },
  {
   "cell_type": "code",
   "execution_count": 112,
   "id": "7f969e06",
   "metadata": {},
   "outputs": [
    {
     "data": {
      "image/png": "[encoded data removed]",
      "text/plain": [
       "<Figure size 1152x288 with 1 Axes>"
      ]
     },
     "metadata": {
      "needs_background": "light"
     },
     "output_type": "display_data"
    }
   ],
   "source": [
    "# Capping the value to 99 percentile\n",
    "\n",
    "df['OpenPorchSF'] = np.where(df['OpenPorchSF'] > np.percentile(df['OpenPorchSF'], 99), np.percentile(df['OpenPorchSF'], 99), df['OpenPorchSF'])\n",
    "\n",
    "plt.figure(figsize=(16,4))\n",
    "\n",
    "sns.boxplot('OpenPorchSF', data=df);"
   ]
  },
  {
   "cell_type": "code",
   "execution_count": 113,
   "id": "a2572f59",
   "metadata": {},
   "outputs": [
    {
     "data": {
      "image/png": "[encoded data removed]",
      "text/plain": [
       "<Figure size 432x288 with 1 Axes>"
      ]
     },
     "metadata": {
      "needs_background": "light"
     },
     "output_type": "display_data"
    }
   ],
   "source": [
    "sns.distplot(df.OpenPorchSF);"
   ]
  },
  {
   "cell_type": "markdown",
   "id": "70a62ce3",
   "metadata": {},
   "source": [
    "The distribution is largely concentrated on '0' value and positive skewness."
   ]
  },
  {
   "cell_type": "code",
   "execution_count": 114,
   "id": "ae33cb2a",
   "metadata": {},
   "outputs": [
    {
     "data": {
      "image/png": "[encoded data removed]",
      "text/plain": [
       "<Figure size 1152x288 with 1 Axes>"
      ]
     },
     "metadata": {
      "needs_background": "light"
     },
     "output_type": "display_data"
    }
   ],
   "source": [
    "# Visualizing the data distribution\n",
    "\n",
    "plt.figure(figsize=(16,4))\n",
    "\n",
    "sns.boxplot('EnclosedPorch', data=df);"
   ]
  },
  {
   "cell_type": "code",
   "execution_count": 115,
   "id": "3a86783e",
   "metadata": {},
   "outputs": [
    {
     "name": "stdout",
     "output_type": "stream",
     "text": [
      "[  0.     0.     0.   112.   180.15 261.05]\n"
     ]
    }
   ],
   "source": [
    "print(np.percentile(df['EnclosedPorch'], [25, 50, 75, 90, 95, 99]))"
   ]
  },
  {
   "cell_type": "code",
   "execution_count": 116,
   "id": "3d223274",
   "metadata": {},
   "outputs": [
    {
     "data": {
      "image/png": "[encoded data removed]",
      "text/plain": [
       "<Figure size 1152x288 with 1 Axes>"
      ]
     },
     "metadata": {
      "needs_background": "light"
     },
     "output_type": "display_data"
    }
   ],
   "source": [
    "# Capping the value to 99 percentile\n",
    "\n",
    "df['EnclosedPorch'] = np.where(df['EnclosedPorch'] > np.percentile(df['EnclosedPorch'], 99), np.percentile(df['EnclosedPorch'], 99), df['EnclosedPorch'])\n",
    "\n",
    "plt.figure(figsize=(16,4))\n",
    "\n",
    "sns.boxplot('EnclosedPorch', data=df);"
   ]
  },
  {
   "cell_type": "code",
   "execution_count": 117,
   "id": "1499e871",
   "metadata": {},
   "outputs": [
    {
     "data": {
      "image/png": "[encoded data removed]",
      "text/plain": [
       "<Figure size 432x288 with 1 Axes>"
      ]
     },
     "metadata": {
      "needs_background": "light"
     },
     "output_type": "display_data"
    }
   ],
   "source": [
    "sns.distplot(df.EnclosedPorch);"
   ]
  },
  {
   "cell_type": "markdown",
   "id": "1907762f",
   "metadata": {},
   "source": [
    "The data is largely concentrated on '0' value."
   ]
  },
  {
   "cell_type": "code",
   "execution_count": 118,
   "id": "93be20e1",
   "metadata": {
    "scrolled": true
   },
   "outputs": [
    {
     "data": {
      "image/png": "[encoded data removed]",
      "text/plain": [
       "<Figure size 1152x288 with 1 Axes>"
      ]
     },
     "metadata": {
      "needs_background": "light"
     },
     "output_type": "display_data"
    }
   ],
   "source": [
    "# Visualizing the data distribution\n",
    "\n",
    "plt.figure(figsize=(16,4))\n",
    "\n",
    "sns.boxplot('3SsnPorch', data=df);"
   ]
  },
  {
   "cell_type": "code",
   "execution_count": 119,
   "id": "be74c8ee",
   "metadata": {},
   "outputs": [
    {
     "name": "stdout",
     "output_type": "stream",
     "text": [
      "[  0.   0.   0.   0.   0. 168.]\n"
     ]
    }
   ],
   "source": [
    "print(np.percentile(df['3SsnPorch'], [25, 50, 75, 90, 95, 99]))"
   ]
  },
  {
   "cell_type": "code",
   "execution_count": 120,
   "id": "d8ba3ed8",
   "metadata": {},
   "outputs": [],
   "source": [
    "# Since majority of values are '0' only. The column is dropped.\n",
    "\n",
    "df.drop('3SsnPorch', axis=1, inplace=True)"
   ]
  },
  {
   "cell_type": "code",
   "execution_count": 121,
   "id": "fab37a45",
   "metadata": {},
   "outputs": [
    {
     "data": {
      "image/png": "[encoded data removed]",
      "text/plain": [
       "<Figure size 1152x288 with 1 Axes>"
      ]
     },
     "metadata": {
      "needs_background": "light"
     },
     "output_type": "display_data"
    }
   ],
   "source": [
    "# Visualizing the data distribution\n",
    "\n",
    "plt.figure(figsize=(16,4))\n",
    "\n",
    "sns.boxplot('ScreenPorch', data=df);"
   ]
  },
  {
   "cell_type": "code",
   "execution_count": 122,
   "id": "c829bb6e",
   "metadata": {},
   "outputs": [
    {
     "name": "stdout",
     "output_type": "stream",
     "text": [
      "[  0.     0.     0.     0.   160.   268.05]\n"
     ]
    }
   ],
   "source": [
    "print(np.percentile(df['ScreenPorch'], [25, 50, 75, 90, 95, 99]))"
   ]
  },
  {
   "cell_type": "code",
   "execution_count": 123,
   "id": "951c71d0",
   "metadata": {},
   "outputs": [],
   "source": [
    "# Since majority of values are '0' only. The column is dropped.\n",
    "\n",
    "df.drop('ScreenPorch', axis=1, inplace=True)"
   ]
  },
  {
   "cell_type": "code",
   "execution_count": 124,
   "id": "67eb809f",
   "metadata": {},
   "outputs": [
    {
     "data": {
      "image/png": "[encoded data removed]",
      "text/plain": [
       "<Figure size 1152x288 with 1 Axes>"
      ]
     },
     "metadata": {
      "needs_background": "light"
     },
     "output_type": "display_data"
    }
   ],
   "source": [
    "plt.figure(figsize=(16,4))\n",
    "\n",
    "sns.boxplot('PoolArea', data=df);"
   ]
  },
  {
   "cell_type": "code",
   "execution_count": 125,
   "id": "fa4254a0",
   "metadata": {},
   "outputs": [],
   "source": [
    "df.drop('PoolArea', axis=1, inplace=True)"
   ]
  },
  {
   "cell_type": "code",
   "execution_count": 126,
   "id": "80bd1e11",
   "metadata": {},
   "outputs": [
    {
     "data": {
      "image/png": "[encoded data removed]",
      "text/plain": [
       "<Figure size 1152x288 with 1 Axes>"
      ]
     },
     "metadata": {
      "needs_background": "light"
     },
     "output_type": "display_data"
    }
   ],
   "source": [
    "plt.figure(figsize=(16,4))\n",
    "\n",
    "sns.boxplot('MiscVal', data=df);"
   ]
  },
  {
   "cell_type": "code",
   "execution_count": 127,
   "id": "23ae0e5c",
   "metadata": {},
   "outputs": [
    {
     "name": "stdout",
     "output_type": "stream",
     "text": [
      "[  0.   0.   0.   0.   0. 700.]\n"
     ]
    }
   ],
   "source": [
    "print(np.percentile(df['MiscVal'], [25, 50, 75, 90, 95, 99]))"
   ]
  },
  {
   "cell_type": "code",
   "execution_count": 128,
   "id": "207d2ed3",
   "metadata": {},
   "outputs": [],
   "source": [
    "df.drop('MiscVal', axis=1, inplace=True)"
   ]
  },
  {
   "cell_type": "code",
   "execution_count": 129,
   "id": "19a0bc91",
   "metadata": {},
   "outputs": [
    {
     "data": {
      "image/png": "[encoded data removed]",
      "text/plain": [
       "<Figure size 1152x288 with 1 Axes>"
      ]
     },
     "metadata": {
      "needs_background": "light"
     },
     "output_type": "display_data"
    }
   ],
   "source": [
    "plt.figure(figsize=(16,4))\n",
    "\n",
    "sns.boxplot('SalePrice', data=df);"
   ]
  },
  {
   "cell_type": "code",
   "execution_count": 130,
   "id": "1dc1a050",
   "metadata": {},
   "outputs": [
    {
     "data": {
      "image/png": "[encoded data removed]",
      "text/plain": [
       "<Figure size 432x288 with 1 Axes>"
      ]
     },
     "metadata": {
      "needs_background": "light"
     },
     "output_type": "display_data"
    }
   ],
   "source": [
    "sns.distplot(df.SalePrice);"
   ]
  },
  {
   "cell_type": "markdown",
   "id": "2e4a5faf",
   "metadata": {},
   "source": [
    "Outlier values and skewness are present in the data series. Since, \"Sale Price\" is the target variable, techniques like dropping of rows or capping may cause compromise with the data range. Therefore, data transformation technique is used to handle the skewness / outliers."
   ]
  },
  {
   "cell_type": "code",
   "execution_count": 131,
   "id": "1052437f",
   "metadata": {},
   "outputs": [],
   "source": [
    "# Log transformation of 'SalePrice' data\n",
    "\n",
    "df['SalePrice'] = np.log(df.SalePrice)"
   ]
  },
  {
   "cell_type": "code",
   "execution_count": 132,
   "id": "39f6f67b",
   "metadata": {},
   "outputs": [
    {
     "data": {
      "image/png": "[encoded data removed]",
      "text/plain": [
       "<Figure size 432x288 with 1 Axes>"
      ]
     },
     "metadata": {
      "needs_background": "light"
     },
     "output_type": "display_data"
    }
   ],
   "source": [
    "sns.distplot(df.SalePrice);"
   ]
  },
  {
   "cell_type": "markdown",
   "id": "93f9afc7",
   "metadata": {},
   "source": [
    "The skewness is no longer present in the data. The distribution seems to be normal."
   ]
  },
  {
   "cell_type": "code",
   "execution_count": 133,
   "id": "6b9b3f1d",
   "metadata": {},
   "outputs": [
    {
     "data": {
      "image/png": "[encoded data removed]",
      "text/plain": [
       "<Figure size 1152x288 with 1 Axes>"
      ]
     },
     "metadata": {
      "needs_background": "light"
     },
     "output_type": "display_data"
    }
   ],
   "source": [
    "plt.figure(figsize=(16,4))\n",
    "\n",
    "sns.boxplot('SalePrice', data=df);"
   ]
  },
  {
   "cell_type": "markdown",
   "id": "bba85b23",
   "metadata": {},
   "source": [
    "The distribution got centralized and the outlier values are distributed at both the sides."
   ]
  },
  {
   "cell_type": "code",
   "execution_count": 134,
   "id": "392d43dd",
   "metadata": {},
   "outputs": [],
   "source": [
    "# Converting variable 'MSSubClass' from int to object\n",
    "\n",
    "df['MSSubClass'] = df.MSSubClass.astype('object')"
   ]
  },
  {
   "cell_type": "code",
   "execution_count": 135,
   "id": "2d0de355",
   "metadata": {},
   "outputs": [],
   "source": [
    "# Converting variable 'OverallQual' from int to object\n",
    "\n",
    "df['OverallQual'] = df.OverallQual.astype('object')"
   ]
  },
  {
   "cell_type": "code",
   "execution_count": 136,
   "id": "ccec7503",
   "metadata": {},
   "outputs": [],
   "source": [
    "# Converting variable 'OverallCond' from int to object\n",
    "\n",
    "df['OverallCond'] = df.OverallCond.astype('object')"
   ]
  },
  {
   "cell_type": "code",
   "execution_count": 137,
   "id": "cf1f9b02",
   "metadata": {},
   "outputs": [],
   "source": [
    "# Converting 'Original construction date' into 'Age of house'\n",
    "\n",
    "df['HouseAge'] = 2021 - df.YearBuilt"
   ]
  },
  {
   "cell_type": "code",
   "execution_count": 138,
   "id": "a2a56016",
   "metadata": {},
   "outputs": [],
   "source": [
    "# Dropping columns that do not have business relevance\n",
    "\n",
    "df.drop(['YearBuilt', 'YearRemodAdd', 'GarageYrBlt', 'YrSold'], axis=1, inplace=True)"
   ]
  },
  {
   "cell_type": "code",
   "execution_count": 139,
   "id": "d342770f",
   "metadata": {},
   "outputs": [],
   "source": [
    "df.drop(['Id'], axis=1, inplace=True)"
   ]
  },
  {
   "cell_type": "code",
   "execution_count": 140,
   "id": "5e8e33ed",
   "metadata": {},
   "outputs": [
    {
     "name": "stdout",
     "output_type": "stream",
     "text": [
      "<class 'pandas.core.frame.DataFrame'>\n",
      "RangeIndex: 1460 entries, 0 to 1459\n",
      "Data columns (total 67 columns):\n",
      " #   Column         Non-Null Count  Dtype  \n",
      "---  ------         --------------  -----  \n",
      " 0   MSSubClass     1460 non-null   object \n",
      " 1   MSZoning       1460 non-null   object \n",
      " 2   LotFrontage    1460 non-null   float64\n",
      " 3   LotArea        1460 non-null   float64\n",
      " 4   Street         1460 non-null   object \n",
      " 5   LotShape       1460 non-null   object \n",
      " 6   LandContour    1460 non-null   object \n",
      " 7   Utilities      1460 non-null   object \n",
      " 8   LotConfig      1460 non-null   object \n",
      " 9   LandSlope      1460 non-null   object \n",
      " 10  Neighborhood   1460 non-null   object \n",
      " 11  Condition1     1460 non-null   object \n",
      " 12  Condition2     1460 non-null   object \n",
      " 13  BldgType       1460 non-null   object \n",
      " 14  HouseStyle     1460 non-null   object \n",
      " 15  OverallQual    1460 non-null   object \n",
      " 16  OverallCond    1460 non-null   object \n",
      " 17  RoofStyle      1460 non-null   object \n",
      " 18  RoofMatl       1460 non-null   object \n",
      " 19  Exterior1st    1460 non-null   object \n",
      " 20  Exterior2nd    1460 non-null   object \n",
      " 21  MasVnrType     1460 non-null   object \n",
      " 22  MasVnrArea     1460 non-null   float64\n",
      " 23  ExterQual      1460 non-null   object \n",
      " 24  ExterCond      1460 non-null   object \n",
      " 25  Foundation     1460 non-null   object \n",
      " 26  BsmtQual       1460 non-null   object \n",
      " 27  BsmtCond       1460 non-null   object \n",
      " 28  BsmtExposure   1460 non-null   object \n",
      " 29  BsmtFinType1   1460 non-null   object \n",
      " 30  BsmtFinSF1     1460 non-null   float64\n",
      " 31  BsmtFinType2   1460 non-null   object \n",
      " 32  BsmtFinSF2     1460 non-null   float64\n",
      " 33  BsmtUnfSF      1460 non-null   float64\n",
      " 34  TotalBsmtSF    1460 non-null   float64\n",
      " 35  Heating        1460 non-null   object \n",
      " 36  HeatingQC      1460 non-null   object \n",
      " 37  CentralAir     1460 non-null   object \n",
      " 38  Electrical     1460 non-null   object \n",
      " 39  1stFlrSF       1460 non-null   float64\n",
      " 40  2ndFlrSF       1460 non-null   float64\n",
      " 41  GrLivArea      1460 non-null   float64\n",
      " 42  BsmtFullBath   1460 non-null   int64  \n",
      " 43  BsmtHalfBath   1460 non-null   int64  \n",
      " 44  FullBath       1460 non-null   int64  \n",
      " 45  HalfBath       1460 non-null   int64  \n",
      " 46  BedroomAbvGr   1460 non-null   int64  \n",
      " 47  KitchenAbvGr   1460 non-null   int64  \n",
      " 48  KitchenQual    1460 non-null   object \n",
      " 49  TotRmsAbvGrd   1460 non-null   int64  \n",
      " 50  Functional     1460 non-null   object \n",
      " 51  Fireplaces     1460 non-null   int64  \n",
      " 52  GarageType     1460 non-null   object \n",
      " 53  GarageFinish   1460 non-null   object \n",
      " 54  GarageCars     1460 non-null   int64  \n",
      " 55  GarageArea     1460 non-null   float64\n",
      " 56  GarageQual     1460 non-null   object \n",
      " 57  GarageCond     1460 non-null   object \n",
      " 58  PavedDrive     1460 non-null   object \n",
      " 59  WoodDeckSF     1460 non-null   float64\n",
      " 60  OpenPorchSF    1460 non-null   float64\n",
      " 61  EnclosedPorch  1460 non-null   float64\n",
      " 62  MoSold         1460 non-null   int64  \n",
      " 63  SaleType       1460 non-null   object \n",
      " 64  SaleCondition  1460 non-null   object \n",
      " 65  SalePrice      1460 non-null   float64\n",
      " 66  HouseAge       1460 non-null   int64  \n",
      "dtypes: float64(15), int64(11), object(41)\n",
      "memory usage: 764.3+ KB\n"
     ]
    }
   ],
   "source": [
    "df.info()"
   ]
  },
  {
   "cell_type": "code",
   "execution_count": 141,
   "id": "4fea4526",
   "metadata": {},
   "outputs": [
    {
     "data": {
      "text/plain": [
       "Index(['MSSubClass', 'MSZoning', 'LotFrontage', 'LotArea', 'Street',\n",
       "       'LotShape', 'LandContour', 'Utilities', 'LotConfig', 'LandSlope',\n",
       "       'Neighborhood', 'Condition1', 'Condition2', 'BldgType', 'HouseStyle',\n",
       "       'OverallQual', 'OverallCond', 'RoofStyle', 'RoofMatl', 'Exterior1st',\n",
       "       'Exterior2nd', 'MasVnrType', 'MasVnrArea', 'ExterQual', 'ExterCond',\n",
       "       'Foundation', 'BsmtQual', 'BsmtCond', 'BsmtExposure', 'BsmtFinType1',\n",
       "       'BsmtFinSF1', 'BsmtFinType2', 'BsmtFinSF2', 'BsmtUnfSF', 'TotalBsmtSF',\n",
       "       'Heating', 'HeatingQC', 'CentralAir', 'Electrical', '1stFlrSF',\n",
       "       '2ndFlrSF', 'GrLivArea', 'BsmtFullBath', 'BsmtHalfBath', 'FullBath',\n",
       "       'HalfBath', 'BedroomAbvGr', 'KitchenAbvGr', 'KitchenQual',\n",
       "       'TotRmsAbvGrd', 'Functional', 'Fireplaces', 'GarageType',\n",
       "       'GarageFinish', 'GarageCars', 'GarageArea', 'GarageQual', 'GarageCond',\n",
       "       'PavedDrive', 'WoodDeckSF', 'OpenPorchSF', 'EnclosedPorch', 'MoSold',\n",
       "       'SaleType', 'SaleCondition', 'SalePrice', 'HouseAge'],\n",
       "      dtype='object')"
      ]
     },
     "execution_count": 141,
     "metadata": {},
     "output_type": "execute_result"
    }
   ],
   "source": [
    "df.columns"
   ]
  },
  {
   "cell_type": "code",
   "execution_count": 142,
   "id": "5703b09e",
   "metadata": {},
   "outputs": [],
   "source": [
    "# Assigning \"Sales Price\" as y variable\n",
    "\n",
    "y = df.SalePrice"
   ]
  },
  {
   "cell_type": "code",
   "execution_count": 143,
   "id": "c730c4e1",
   "metadata": {},
   "outputs": [
    {
     "data": {
      "text/html": [
       "<div>\n",
       "<style scoped>\n",
       "    .dataframe tbody tr th:only-of-type {\n",
       "        vertical-align: middle;\n",
       "    }\n",
       "\n",
       "    .dataframe tbody tr th {\n",
       "        vertical-align: top;\n",
       "    }\n",
       "\n",
       "    .dataframe thead th {\n",
       "        text-align: right;\n",
       "    }\n",
       "</style>\n",
       "<table border=\"1\" class=\"dataframe\">\n",
       "  <thead>\n",
       "    <tr style=\"text-align: right;\">\n",
       "      <th></th>\n",
       "      <th>MSSubClass</th>\n",
       "      <th>MSZoning</th>\n",
       "      <th>Street</th>\n",
       "      <th>LotShape</th>\n",
       "      <th>LandContour</th>\n",
       "      <th>Utilities</th>\n",
       "      <th>LotConfig</th>\n",
       "      <th>LandSlope</th>\n",
       "      <th>Neighborhood</th>\n",
       "      <th>Condition1</th>\n",
       "      <th>...</th>\n",
       "      <th>Electrical</th>\n",
       "      <th>KitchenQual</th>\n",
       "      <th>Functional</th>\n",
       "      <th>GarageType</th>\n",
       "      <th>GarageFinish</th>\n",
       "      <th>GarageQual</th>\n",
       "      <th>GarageCond</th>\n",
       "      <th>PavedDrive</th>\n",
       "      <th>SaleType</th>\n",
       "      <th>SaleCondition</th>\n",
       "    </tr>\n",
       "  </thead>\n",
       "  <tbody>\n",
       "    <tr>\n",
       "      <th>0</th>\n",
       "      <td>60</td>\n",
       "      <td>RL</td>\n",
       "      <td>Pave</td>\n",
       "      <td>Reg</td>\n",
       "      <td>Lvl</td>\n",
       "      <td>AllPub</td>\n",
       "      <td>Inside</td>\n",
       "      <td>Gtl</td>\n",
       "      <td>CollgCr</td>\n",
       "      <td>Norm</td>\n",
       "      <td>...</td>\n",
       "      <td>SBrkr</td>\n",
       "      <td>Gd</td>\n",
       "      <td>Typ</td>\n",
       "      <td>Attchd</td>\n",
       "      <td>RFn</td>\n",
       "      <td>TA</td>\n",
       "      <td>TA</td>\n",
       "      <td>Y</td>\n",
       "      <td>WD</td>\n",
       "      <td>Normal</td>\n",
       "    </tr>\n",
       "    <tr>\n",
       "      <th>1</th>\n",
       "      <td>20</td>\n",
       "      <td>RL</td>\n",
       "      <td>Pave</td>\n",
       "      <td>Reg</td>\n",
       "      <td>Lvl</td>\n",
       "      <td>AllPub</td>\n",
       "      <td>FR2</td>\n",
       "      <td>Gtl</td>\n",
       "      <td>Veenker</td>\n",
       "      <td>Feedr</td>\n",
       "      <td>...</td>\n",
       "      <td>SBrkr</td>\n",
       "      <td>TA</td>\n",
       "      <td>Typ</td>\n",
       "      <td>Attchd</td>\n",
       "      <td>RFn</td>\n",
       "      <td>TA</td>\n",
       "      <td>TA</td>\n",
       "      <td>Y</td>\n",
       "      <td>WD</td>\n",
       "      <td>Normal</td>\n",
       "    </tr>\n",
       "    <tr>\n",
       "      <th>2</th>\n",
       "      <td>60</td>\n",
       "      <td>RL</td>\n",
       "      <td>Pave</td>\n",
       "      <td>IR1</td>\n",
       "      <td>Lvl</td>\n",
       "      <td>AllPub</td>\n",
       "      <td>Inside</td>\n",
       "      <td>Gtl</td>\n",
       "      <td>CollgCr</td>\n",
       "      <td>Norm</td>\n",
       "      <td>...</td>\n",
       "      <td>SBrkr</td>\n",
       "      <td>Gd</td>\n",
       "      <td>Typ</td>\n",
       "      <td>Attchd</td>\n",
       "      <td>RFn</td>\n",
       "      <td>TA</td>\n",
       "      <td>TA</td>\n",
       "      <td>Y</td>\n",
       "      <td>WD</td>\n",
       "      <td>Normal</td>\n",
       "    </tr>\n",
       "    <tr>\n",
       "      <th>3</th>\n",
       "      <td>70</td>\n",
       "      <td>RL</td>\n",
       "      <td>Pave</td>\n",
       "      <td>IR1</td>\n",
       "      <td>Lvl</td>\n",
       "      <td>AllPub</td>\n",
       "      <td>Corner</td>\n",
       "      <td>Gtl</td>\n",
       "      <td>Crawfor</td>\n",
       "      <td>Norm</td>\n",
       "      <td>...</td>\n",
       "      <td>SBrkr</td>\n",
       "      <td>Gd</td>\n",
       "      <td>Typ</td>\n",
       "      <td>Detchd</td>\n",
       "      <td>Unf</td>\n",
       "      <td>TA</td>\n",
       "      <td>TA</td>\n",
       "      <td>Y</td>\n",
       "      <td>WD</td>\n",
       "      <td>Abnorml</td>\n",
       "    </tr>\n",
       "    <tr>\n",
       "      <th>4</th>\n",
       "      <td>60</td>\n",
       "      <td>RL</td>\n",
       "      <td>Pave</td>\n",
       "      <td>IR1</td>\n",
       "      <td>Lvl</td>\n",
       "      <td>AllPub</td>\n",
       "      <td>FR2</td>\n",
       "      <td>Gtl</td>\n",
       "      <td>NoRidge</td>\n",
       "      <td>Norm</td>\n",
       "      <td>...</td>\n",
       "      <td>SBrkr</td>\n",
       "      <td>Gd</td>\n",
       "      <td>Typ</td>\n",
       "      <td>Attchd</td>\n",
       "      <td>RFn</td>\n",
       "      <td>TA</td>\n",
       "      <td>TA</td>\n",
       "      <td>Y</td>\n",
       "      <td>WD</td>\n",
       "      <td>Normal</td>\n",
       "    </tr>\n",
       "  </tbody>\n",
       "</table>\n",
       "<p>5 rows × 41 columns</p>\n",
       "</div>"
      ],
      "text/plain": [
       "  MSSubClass MSZoning Street LotShape LandContour Utilities LotConfig  \\\n",
       "0         60       RL   Pave      Reg         Lvl    AllPub    Inside   \n",
       "1         20       RL   Pave      Reg         Lvl    AllPub       FR2   \n",
       "2         60       RL   Pave      IR1         Lvl    AllPub    Inside   \n",
       "3         70       RL   Pave      IR1         Lvl    AllPub    Corner   \n",
       "4         60       RL   Pave      IR1         Lvl    AllPub       FR2   \n",
       "\n",
       "  LandSlope Neighborhood Condition1  ... Electrical KitchenQual Functional  \\\n",
       "0       Gtl      CollgCr       Norm  ...      SBrkr          Gd        Typ   \n",
       "1       Gtl      Veenker      Feedr  ...      SBrkr          TA        Typ   \n",
       "2       Gtl      CollgCr       Norm  ...      SBrkr          Gd        Typ   \n",
       "3       Gtl      Crawfor       Norm  ...      SBrkr          Gd        Typ   \n",
       "4       Gtl      NoRidge       Norm  ...      SBrkr          Gd        Typ   \n",
       "\n",
       "  GarageType GarageFinish GarageQual GarageCond PavedDrive SaleType  \\\n",
       "0     Attchd          RFn         TA         TA          Y       WD   \n",
       "1     Attchd          RFn         TA         TA          Y       WD   \n",
       "2     Attchd          RFn         TA         TA          Y       WD   \n",
       "3     Detchd          Unf         TA         TA          Y       WD   \n",
       "4     Attchd          RFn         TA         TA          Y       WD   \n",
       "\n",
       "  SaleCondition  \n",
       "0        Normal  \n",
       "1        Normal  \n",
       "2        Normal  \n",
       "3       Abnorml  \n",
       "4        Normal  \n",
       "\n",
       "[5 rows x 41 columns]"
      ]
     },
     "execution_count": 143,
     "metadata": {},
     "output_type": "execute_result"
    }
   ],
   "source": [
    "# Subsetting all categorical variables\n",
    "\n",
    "df_categorical = df.select_dtypes(include=['object'])\n",
    "df_categorical.head()"
   ]
  },
  {
   "cell_type": "code",
   "execution_count": 144,
   "id": "a1e4715a",
   "metadata": {
    "scrolled": true
   },
   "outputs": [
    {
     "data": {
      "text/plain": [
       "Index(['MSSubClass', 'MSZoning', 'Street', 'LotShape', 'LandContour',\n",
       "       'Utilities', 'LotConfig', 'LandSlope', 'Neighborhood', 'Condition1',\n",
       "       'Condition2', 'BldgType', 'HouseStyle', 'OverallQual', 'OverallCond',\n",
       "       'RoofStyle', 'RoofMatl', 'Exterior1st', 'Exterior2nd', 'MasVnrType',\n",
       "       'ExterQual', 'ExterCond', 'Foundation', 'BsmtQual', 'BsmtCond',\n",
       "       'BsmtExposure', 'BsmtFinType1', 'BsmtFinType2', 'Heating', 'HeatingQC',\n",
       "       'CentralAir', 'Electrical', 'KitchenQual', 'Functional', 'GarageType',\n",
       "       'GarageFinish', 'GarageQual', 'GarageCond', 'PavedDrive', 'SaleType',\n",
       "       'SaleCondition'],\n",
       "      dtype='object')"
      ]
     },
     "execution_count": 144,
     "metadata": {},
     "output_type": "execute_result"
    }
   ],
   "source": [
    "df_categorical.columns"
   ]
  },
  {
   "cell_type": "code",
   "execution_count": 145,
   "id": "e7be1850",
   "metadata": {},
   "outputs": [
    {
     "data": {
      "text/html": [
       "<div>\n",
       "<style scoped>\n",
       "    .dataframe tbody tr th:only-of-type {\n",
       "        vertical-align: middle;\n",
       "    }\n",
       "\n",
       "    .dataframe tbody tr th {\n",
       "        vertical-align: top;\n",
       "    }\n",
       "\n",
       "    .dataframe thead th {\n",
       "        text-align: right;\n",
       "    }\n",
       "</style>\n",
       "<table border=\"1\" class=\"dataframe\">\n",
       "  <thead>\n",
       "    <tr style=\"text-align: right;\">\n",
       "      <th></th>\n",
       "      <th>LotFrontage</th>\n",
       "      <th>LotArea</th>\n",
       "      <th>MasVnrArea</th>\n",
       "      <th>BsmtFinSF1</th>\n",
       "      <th>BsmtFinSF2</th>\n",
       "      <th>BsmtUnfSF</th>\n",
       "      <th>TotalBsmtSF</th>\n",
       "      <th>1stFlrSF</th>\n",
       "      <th>2ndFlrSF</th>\n",
       "      <th>GrLivArea</th>\n",
       "      <th>...</th>\n",
       "      <th>TotRmsAbvGrd</th>\n",
       "      <th>Fireplaces</th>\n",
       "      <th>GarageCars</th>\n",
       "      <th>GarageArea</th>\n",
       "      <th>WoodDeckSF</th>\n",
       "      <th>OpenPorchSF</th>\n",
       "      <th>EnclosedPorch</th>\n",
       "      <th>MoSold</th>\n",
       "      <th>SalePrice</th>\n",
       "      <th>HouseAge</th>\n",
       "    </tr>\n",
       "  </thead>\n",
       "  <tbody>\n",
       "    <tr>\n",
       "      <th>0</th>\n",
       "      <td>65.0</td>\n",
       "      <td>8450.0</td>\n",
       "      <td>196.0</td>\n",
       "      <td>706.0</td>\n",
       "      <td>0.0</td>\n",
       "      <td>150.0</td>\n",
       "      <td>856.0</td>\n",
       "      <td>856.0</td>\n",
       "      <td>854.0</td>\n",
       "      <td>1710.0</td>\n",
       "      <td>...</td>\n",
       "      <td>8</td>\n",
       "      <td>0</td>\n",
       "      <td>2</td>\n",
       "      <td>548.0</td>\n",
       "      <td>0.0</td>\n",
       "      <td>61.0</td>\n",
       "      <td>0.00</td>\n",
       "      <td>2</td>\n",
       "      <td>12.247694</td>\n",
       "      <td>18</td>\n",
       "    </tr>\n",
       "    <tr>\n",
       "      <th>1</th>\n",
       "      <td>80.0</td>\n",
       "      <td>9600.0</td>\n",
       "      <td>0.0</td>\n",
       "      <td>978.0</td>\n",
       "      <td>0.0</td>\n",
       "      <td>284.0</td>\n",
       "      <td>1262.0</td>\n",
       "      <td>1262.0</td>\n",
       "      <td>0.0</td>\n",
       "      <td>1262.0</td>\n",
       "      <td>...</td>\n",
       "      <td>6</td>\n",
       "      <td>1</td>\n",
       "      <td>2</td>\n",
       "      <td>460.0</td>\n",
       "      <td>298.0</td>\n",
       "      <td>0.0</td>\n",
       "      <td>0.00</td>\n",
       "      <td>5</td>\n",
       "      <td>12.109011</td>\n",
       "      <td>45</td>\n",
       "    </tr>\n",
       "    <tr>\n",
       "      <th>2</th>\n",
       "      <td>68.0</td>\n",
       "      <td>11250.0</td>\n",
       "      <td>162.0</td>\n",
       "      <td>486.0</td>\n",
       "      <td>0.0</td>\n",
       "      <td>434.0</td>\n",
       "      <td>920.0</td>\n",
       "      <td>920.0</td>\n",
       "      <td>866.0</td>\n",
       "      <td>1786.0</td>\n",
       "      <td>...</td>\n",
       "      <td>6</td>\n",
       "      <td>1</td>\n",
       "      <td>2</td>\n",
       "      <td>608.0</td>\n",
       "      <td>0.0</td>\n",
       "      <td>42.0</td>\n",
       "      <td>0.00</td>\n",
       "      <td>9</td>\n",
       "      <td>12.317167</td>\n",
       "      <td>20</td>\n",
       "    </tr>\n",
       "    <tr>\n",
       "      <th>3</th>\n",
       "      <td>60.0</td>\n",
       "      <td>9550.0</td>\n",
       "      <td>0.0</td>\n",
       "      <td>216.0</td>\n",
       "      <td>0.0</td>\n",
       "      <td>540.0</td>\n",
       "      <td>756.0</td>\n",
       "      <td>961.0</td>\n",
       "      <td>756.0</td>\n",
       "      <td>1717.0</td>\n",
       "      <td>...</td>\n",
       "      <td>7</td>\n",
       "      <td>1</td>\n",
       "      <td>3</td>\n",
       "      <td>642.0</td>\n",
       "      <td>0.0</td>\n",
       "      <td>35.0</td>\n",
       "      <td>261.05</td>\n",
       "      <td>2</td>\n",
       "      <td>11.849398</td>\n",
       "      <td>106</td>\n",
       "    </tr>\n",
       "    <tr>\n",
       "      <th>4</th>\n",
       "      <td>84.0</td>\n",
       "      <td>14260.0</td>\n",
       "      <td>350.0</td>\n",
       "      <td>655.0</td>\n",
       "      <td>0.0</td>\n",
       "      <td>490.0</td>\n",
       "      <td>1145.0</td>\n",
       "      <td>1145.0</td>\n",
       "      <td>1053.0</td>\n",
       "      <td>2198.0</td>\n",
       "      <td>...</td>\n",
       "      <td>9</td>\n",
       "      <td>1</td>\n",
       "      <td>3</td>\n",
       "      <td>836.0</td>\n",
       "      <td>192.0</td>\n",
       "      <td>84.0</td>\n",
       "      <td>0.00</td>\n",
       "      <td>12</td>\n",
       "      <td>12.429216</td>\n",
       "      <td>21</td>\n",
       "    </tr>\n",
       "  </tbody>\n",
       "</table>\n",
       "<p>5 rows × 26 columns</p>\n",
       "</div>"
      ],
      "text/plain": [
       "   LotFrontage  LotArea  MasVnrArea  BsmtFinSF1  BsmtFinSF2  BsmtUnfSF  \\\n",
       "0         65.0   8450.0       196.0       706.0         0.0      150.0   \n",
       "1         80.0   9600.0         0.0       978.0         0.0      284.0   \n",
       "2         68.0  11250.0       162.0       486.0         0.0      434.0   \n",
       "3         60.0   9550.0         0.0       216.0         0.0      540.0   \n",
       "4         84.0  14260.0       350.0       655.0         0.0      490.0   \n",
       "\n",
       "   TotalBsmtSF  1stFlrSF  2ndFlrSF  GrLivArea  ...  TotRmsAbvGrd  Fireplaces  \\\n",
       "0        856.0     856.0     854.0     1710.0  ...             8           0   \n",
       "1       1262.0    1262.0       0.0     1262.0  ...             6           1   \n",
       "2        920.0     920.0     866.0     1786.0  ...             6           1   \n",
       "3        756.0     961.0     756.0     1717.0  ...             7           1   \n",
       "4       1145.0    1145.0    1053.0     2198.0  ...             9           1   \n",
       "\n",
       "   GarageCars  GarageArea  WoodDeckSF  OpenPorchSF  EnclosedPorch  MoSold  \\\n",
       "0           2       548.0         0.0         61.0           0.00       2   \n",
       "1           2       460.0       298.0          0.0           0.00       5   \n",
       "2           2       608.0         0.0         42.0           0.00       9   \n",
       "3           3       642.0         0.0         35.0         261.05       2   \n",
       "4           3       836.0       192.0         84.0           0.00      12   \n",
       "\n",
       "   SalePrice  HouseAge  \n",
       "0  12.247694        18  \n",
       "1  12.109011        45  \n",
       "2  12.317167        20  \n",
       "3  11.849398       106  \n",
       "4  12.429216        21  \n",
       "\n",
       "[5 rows x 26 columns]"
      ]
     },
     "execution_count": 145,
     "metadata": {},
     "output_type": "execute_result"
    }
   ],
   "source": [
    "# Subsetting all numerical columns \n",
    "\n",
    "df_numeric = df._get_numeric_data()\n",
    "df_numeric.head()"
   ]
  },
  {
   "cell_type": "code",
   "execution_count": 146,
   "id": "e4eedf91",
   "metadata": {},
   "outputs": [],
   "source": [
    "# Dropping target variable from the independent variables\n",
    "\n",
    "df_numeric.drop('SalePrice', axis=1, inplace=True)"
   ]
  },
  {
   "cell_type": "code",
   "execution_count": 147,
   "id": "b17370aa",
   "metadata": {},
   "outputs": [],
   "source": [
    "# Saving names of numerical columns\n",
    "\n",
    "num_features = df_numeric.columns"
   ]
  },
  {
   "cell_type": "code",
   "execution_count": 148,
   "id": "eace4025",
   "metadata": {},
   "outputs": [
    {
     "name": "stdout",
     "output_type": "stream",
     "text": [
      "\n",
      "20     536\n",
      "60     299\n",
      "50     144\n",
      "120     87\n",
      "30      69\n",
      "160     63\n",
      "70      60\n",
      "80      58\n",
      "90      52\n",
      "190     30\n",
      "85      20\n",
      "75      16\n",
      "45      12\n",
      "180     10\n",
      "40       4\n",
      "Name: MSSubClass, dtype: int64\n",
      "\n",
      "RL         1151\n",
      "RM          218\n",
      "FV           65\n",
      "RH           16\n",
      "C (all)      10\n",
      "Name: MSZoning, dtype: int64\n",
      "\n",
      "Pave    1454\n",
      "Grvl       6\n",
      "Name: Street, dtype: int64\n",
      "\n",
      "Reg    925\n",
      "IR1    484\n",
      "IR2     41\n",
      "IR3     10\n",
      "Name: LotShape, dtype: int64\n",
      "\n",
      "Lvl    1311\n",
      "Bnk      63\n",
      "HLS      50\n",
      "Low      36\n",
      "Name: LandContour, dtype: int64\n",
      "\n",
      "AllPub    1459\n",
      "NoSeWa       1\n",
      "Name: Utilities, dtype: int64\n",
      "\n",
      "Inside     1052\n",
      "Corner      263\n",
      "CulDSac      94\n",
      "FR2          47\n",
      "FR3           4\n",
      "Name: LotConfig, dtype: int64\n",
      "\n",
      "Gtl    1382\n",
      "Mod      65\n",
      "Sev      13\n",
      "Name: LandSlope, dtype: int64\n",
      "\n",
      "NAmes      225\n",
      "CollgCr    150\n",
      "OldTown    113\n",
      "Edwards    100\n",
      "Somerst     86\n",
      "Gilbert     79\n",
      "NridgHt     77\n",
      "Sawyer      74\n",
      "NWAmes      73\n",
      "SawyerW     59\n",
      "BrkSide     58\n",
      "Crawfor     51\n",
      "Mitchel     49\n",
      "NoRidge     41\n",
      "Timber      38\n",
      "IDOTRR      37\n",
      "ClearCr     28\n",
      "StoneBr     25\n",
      "SWISU       25\n",
      "Blmngtn     17\n",
      "MeadowV     17\n",
      "BrDale      16\n",
      "Veenker     11\n",
      "NPkVill      9\n",
      "Blueste      2\n",
      "Name: Neighborhood, dtype: int64\n",
      "\n",
      "Norm      1260\n",
      "Feedr       81\n",
      "Artery      48\n",
      "RRAn        26\n",
      "PosN        19\n",
      "RRAe        11\n",
      "PosA         8\n",
      "RRNn         5\n",
      "RRNe         2\n",
      "Name: Condition1, dtype: int64\n",
      "\n",
      "Norm      1445\n",
      "Feedr        6\n",
      "PosN         2\n",
      "Artery       2\n",
      "RRNn         2\n",
      "RRAe         1\n",
      "RRAn         1\n",
      "PosA         1\n",
      "Name: Condition2, dtype: int64\n",
      "\n",
      "1Fam      1220\n",
      "TwnhsE     114\n",
      "Duplex      52\n",
      "Twnhs       43\n",
      "2fmCon      31\n",
      "Name: BldgType, dtype: int64\n",
      "\n",
      "1Story    726\n",
      "2Story    445\n",
      "1.5Fin    154\n",
      "SLvl       65\n",
      "SFoyer     37\n",
      "1.5Unf     14\n",
      "2.5Unf     11\n",
      "2.5Fin      8\n",
      "Name: HouseStyle, dtype: int64\n",
      "\n",
      "5     397\n",
      "6     374\n",
      "7     319\n",
      "8     168\n",
      "4     116\n",
      "9      43\n",
      "3      20\n",
      "10     18\n",
      "2       3\n",
      "1       2\n",
      "Name: OverallQual, dtype: int64\n",
      "\n",
      "5    821\n",
      "6    252\n",
      "7    205\n",
      "8     72\n",
      "4     57\n",
      "3     25\n",
      "9     22\n",
      "2      5\n",
      "1      1\n",
      "Name: OverallCond, dtype: int64\n",
      "\n",
      "Gable      1141\n",
      "Hip         286\n",
      "Flat         13\n",
      "Gambrel      11\n",
      "Mansard       7\n",
      "Shed          2\n",
      "Name: RoofStyle, dtype: int64\n",
      "\n",
      "CompShg    1434\n",
      "Tar&Grv      11\n",
      "WdShngl       6\n",
      "WdShake       5\n",
      "ClyTile       1\n",
      "Roll          1\n",
      "Membran       1\n",
      "Metal         1\n",
      "Name: RoofMatl, dtype: int64\n",
      "\n",
      "VinylSd    515\n",
      "HdBoard    222\n",
      "MetalSd    220\n",
      "Wd Sdng    206\n",
      "Plywood    108\n",
      "CemntBd     61\n",
      "BrkFace     50\n",
      "WdShing     26\n",
      "Stucco      25\n",
      "AsbShng     20\n",
      "Stone        2\n",
      "BrkComm      2\n",
      "ImStucc      1\n",
      "CBlock       1\n",
      "AsphShn      1\n",
      "Name: Exterior1st, dtype: int64\n",
      "\n",
      "VinylSd    504\n",
      "MetalSd    214\n",
      "HdBoard    207\n",
      "Wd Sdng    197\n",
      "Plywood    142\n",
      "CmentBd     60\n",
      "Wd Shng     38\n",
      "Stucco      26\n",
      "BrkFace     25\n",
      "AsbShng     20\n",
      "ImStucc     10\n",
      "Brk Cmn      7\n",
      "Stone        5\n",
      "AsphShn      3\n",
      "CBlock       1\n",
      "Other        1\n",
      "Name: Exterior2nd, dtype: int64\n",
      "\n",
      "None       872\n",
      "BrkFace    445\n",
      "Stone      128\n",
      "BrkCmn      15\n",
      "Name: MasVnrType, dtype: int64\n",
      "\n",
      "TA    906\n",
      "Gd    488\n",
      "Ex     52\n",
      "Fa     14\n",
      "Name: ExterQual, dtype: int64\n",
      "\n",
      "TA    1282\n",
      "Gd     146\n",
      "Fa      28\n",
      "Ex       3\n",
      "Po       1\n",
      "Name: ExterCond, dtype: int64\n",
      "\n",
      "PConc     647\n",
      "CBlock    634\n",
      "BrkTil    146\n",
      "Slab       24\n",
      "Stone       6\n",
      "Wood        3\n",
      "Name: Foundation, dtype: int64\n",
      "\n",
      "TA    649\n",
      "Gd    618\n",
      "Ex    121\n",
      "No     37\n",
      "Fa     35\n",
      "Name: BsmtQual, dtype: int64\n",
      "\n",
      "TA    1311\n",
      "Gd      65\n",
      "Fa      45\n",
      "No      37\n",
      "Po       2\n",
      "Name: BsmtCond, dtype: int64\n",
      "\n",
      "No    953\n",
      "Av    221\n",
      "Gd    134\n",
      "Mn    114\n",
      "NB     38\n",
      "Name: BsmtExposure, dtype: int64\n",
      "\n",
      "Unf    430\n",
      "GLQ    418\n",
      "ALQ    220\n",
      "BLQ    148\n",
      "Rec    133\n",
      "LwQ     74\n",
      "NoB     37\n",
      "Name: BsmtFinType1, dtype: int64\n",
      "\n",
      "Unf    1256\n",
      "Rec      54\n",
      "LwQ      46\n",
      "NoB      38\n",
      "BLQ      33\n",
      "ALQ      19\n",
      "GLQ      14\n",
      "Name: BsmtFinType2, dtype: int64\n",
      "\n",
      "GasA     1428\n",
      "GasW       18\n",
      "Grav        7\n",
      "Wall        4\n",
      "OthW        2\n",
      "Floor       1\n",
      "Name: Heating, dtype: int64\n",
      "\n",
      "Ex    741\n",
      "TA    428\n",
      "Gd    241\n",
      "Fa     49\n",
      "Po      1\n",
      "Name: HeatingQC, dtype: int64\n",
      "\n",
      "Y    1365\n",
      "N      95\n",
      "Name: CentralAir, dtype: int64\n",
      "\n",
      "SBrkr    1335\n",
      "FuseA      94\n",
      "FuseF      27\n",
      "FuseP       3\n",
      "Mix         1\n",
      "Name: Electrical, dtype: int64\n",
      "\n",
      "TA    735\n",
      "Gd    586\n",
      "Ex    100\n",
      "Fa     39\n",
      "Name: KitchenQual, dtype: int64\n",
      "\n",
      "Typ     1360\n",
      "Min2      34\n",
      "Min1      31\n",
      "Mod       15\n",
      "Maj1      14\n",
      "Maj2       5\n",
      "Sev        1\n",
      "Name: Functional, dtype: int64\n",
      "\n",
      "Attchd      870\n",
      "Detchd      387\n",
      "BuiltIn      88\n",
      "NoGarage     81\n",
      "Basment      19\n",
      "CarPort       9\n",
      "2Types        6\n",
      "Name: GarageType, dtype: int64\n",
      "\n",
      "Unf         605\n",
      "RFn         422\n",
      "Fin         352\n",
      "NoGarage     81\n",
      "Name: GarageFinish, dtype: int64\n",
      "\n",
      "TA          1311\n",
      "NoGarage      81\n",
      "Fa            48\n",
      "Gd            14\n",
      "Ex             3\n",
      "Po             3\n",
      "Name: GarageQual, dtype: int64\n",
      "\n",
      "TA          1326\n",
      "NoGarage      81\n",
      "Fa            35\n",
      "Gd             9\n",
      "Po             7\n",
      "Ex             2\n",
      "Name: GarageCond, dtype: int64\n",
      "\n",
      "Y    1340\n",
      "N      90\n",
      "P      30\n",
      "Name: PavedDrive, dtype: int64\n",
      "\n",
      "WD       1267\n",
      "New       122\n",
      "COD        43\n",
      "ConLD       9\n",
      "ConLw       5\n",
      "ConLI       5\n",
      "CWD         4\n",
      "Oth         3\n",
      "Con         2\n",
      "Name: SaleType, dtype: int64\n",
      "\n",
      "Normal     1198\n",
      "Partial     125\n",
      "Abnorml     101\n",
      "Family       20\n",
      "Alloca       12\n",
      "AdjLand       4\n",
      "Name: SaleCondition, dtype: int64\n"
     ]
    }
   ],
   "source": [
    "# Understanding data distribution of categorical columns\n",
    "\n",
    "Cat_col = df_categorical.columns\n",
    "for i in Cat_col:\n",
    "    print()\n",
    "    print(df[i].value_counts())"
   ]
  },
  {
   "cell_type": "code",
   "execution_count": 149,
   "id": "6ae0c82b",
   "metadata": {},
   "outputs": [],
   "source": [
    "# The 'Street' and 'Utilities' variables are largely concentrated on one value, \n",
    "# therefore, the columns can be dropped\n",
    "\n",
    "df_categorical.drop(['Street', 'Utilities'], axis=1, inplace=True)"
   ]
  },
  {
   "cell_type": "code",
   "execution_count": 150,
   "id": "3b5d45e9",
   "metadata": {},
   "outputs": [],
   "source": [
    "# Merging category values where individual value count is low\n",
    "\n",
    "df_categorical['MSZoning'].replace(['FV', 'RH', 'C (all)'], 'Other', inplace=True)"
   ]
  },
  {
   "cell_type": "code",
   "execution_count": 151,
   "id": "a0e61834",
   "metadata": {},
   "outputs": [],
   "source": [
    "df_categorical['LotShape'].replace(['IR1', 'IR2', 'IR3'], 'IR', inplace=True)"
   ]
  },
  {
   "cell_type": "code",
   "execution_count": 152,
   "id": "41c984fe",
   "metadata": {},
   "outputs": [],
   "source": [
    "df_categorical['LotConfig'].replace(['FR2', 'FR3'], 'FR', inplace=True)"
   ]
  },
  {
   "cell_type": "code",
   "execution_count": 153,
   "id": "71ac04c4",
   "metadata": {},
   "outputs": [],
   "source": [
    "df_categorical['Neighborhood'].replace(['NPkVill', 'Blueste'], 'Other', inplace=True)"
   ]
  },
  {
   "cell_type": "code",
   "execution_count": 154,
   "id": "41a3dc81",
   "metadata": {},
   "outputs": [],
   "source": [
    "df_categorical['Condition1'].replace(['RRAn', 'RRNn'], 'NSR', inplace=True)\n",
    "df_categorical['Condition1'].replace(['RRAe', 'RRNe'], 'EWR', inplace=True)\n",
    "df_categorical['Condition1'].replace(['PosN', 'PosA'], 'POSF', inplace=True)"
   ]
  },
  {
   "cell_type": "code",
   "execution_count": 155,
   "id": "0e17a021",
   "metadata": {},
   "outputs": [],
   "source": [
    "df_categorical['Condition1'].replace(['RRAn', 'RRNn'], 'NSR', inplace=True)"
   ]
  },
  {
   "cell_type": "code",
   "execution_count": 156,
   "id": "a3d26bbb",
   "metadata": {},
   "outputs": [],
   "source": [
    "df_categorical['Condition2'].replace(['Feedr', 'Artery' 'PosN', 'RRNn', 'PosA', 'RRAn', 'RRAe'], 'Special', inplace=True)"
   ]
  },
  {
   "cell_type": "code",
   "execution_count": 157,
   "id": "e1082a8d",
   "metadata": {},
   "outputs": [],
   "source": [
    "df_categorical['HouseStyle'].replace(['1.5Fin', '1.5Unf'], '1.5Story', inplace=True)\n",
    "df_categorical['HouseStyle'].replace(['2.5Unf', '2.5Fin'], '2.5Story', inplace=True)"
   ]
  },
  {
   "cell_type": "code",
   "execution_count": 158,
   "id": "82346f94",
   "metadata": {},
   "outputs": [],
   "source": [
    "df_categorical['RoofStyle'].replace(['Mansard', 'Shed'], 'Other', inplace=True)"
   ]
  },
  {
   "cell_type": "code",
   "execution_count": 159,
   "id": "bdfaa75f",
   "metadata": {},
   "outputs": [],
   "source": [
    "df_categorical['RoofMatl'].replace(['Metal', 'Membran', 'ClyTile', 'Roll'], 'Other', inplace=True)"
   ]
  },
  {
   "cell_type": "code",
   "execution_count": 160,
   "id": "eca0a28d",
   "metadata": {},
   "outputs": [],
   "source": [
    "df_categorical['Exterior1st'].replace(['Stone', 'BrkComm', 'ImStucc', 'AsphShn', 'CBlock'], 'Other', inplace=True)"
   ]
  },
  {
   "cell_type": "code",
   "execution_count": 161,
   "id": "f3b153b4",
   "metadata": {},
   "outputs": [],
   "source": [
    "df_categorical['Exterior2nd'].replace(['AsphShn', 'Other', 'CBlock'], 'Other', inplace=True)"
   ]
  },
  {
   "cell_type": "code",
   "execution_count": 162,
   "id": "b39dc666",
   "metadata": {},
   "outputs": [],
   "source": [
    "df_categorical['Foundation'].replace(['Slab', 'Stone', 'Wood'], 'Other', inplace=True)"
   ]
  },
  {
   "cell_type": "code",
   "execution_count": 163,
   "id": "6319fcf7",
   "metadata": {},
   "outputs": [],
   "source": [
    "df_categorical['Heating'].replace(['GasW', 'GasA'], 'Gas', inplace=True)\n",
    "df_categorical['Heating'].replace(['Grav', 'Wall', 'OthW', 'Floor'], 'Other', inplace=True)"
   ]
  },
  {
   "cell_type": "code",
   "execution_count": 164,
   "id": "984944d9",
   "metadata": {},
   "outputs": [],
   "source": [
    "df_categorical['Electrical'].replace(['FuseA', 'FuseF', 'FuseP', 'Mix'], 'Fuse', inplace=True)"
   ]
  },
  {
   "cell_type": "code",
   "execution_count": 165,
   "id": "b2189329",
   "metadata": {},
   "outputs": [],
   "source": [
    "df_categorical['Functional'].replace(['Min2', 'Min1'], 'Min', inplace=True)\n",
    "df_categorical['Functional'].replace(['Maj1', 'Maj2'], 'Maj', inplace=True)\n",
    "df_categorical['Functional'].replace(['Mod', 'Sev'], 'ModToSev', inplace=True)"
   ]
  },
  {
   "cell_type": "code",
   "execution_count": 166,
   "id": "a8e511c7",
   "metadata": {},
   "outputs": [],
   "source": [
    "df_categorical['SaleType'].replace(['ConLD', 'ConLI', 'ConLw', 'CWD', 'Oth', 'Con'], 'Other', inplace=True)"
   ]
  },
  {
   "cell_type": "code",
   "execution_count": 167,
   "id": "d5f8de18",
   "metadata": {},
   "outputs": [],
   "source": [
    "df_categorical['SaleCondition'].replace(['Family', 'Alloca', 'AdjLand'], 'Other', inplace=True)"
   ]
  },
  {
   "cell_type": "code",
   "execution_count": 168,
   "id": "0cbdd384",
   "metadata": {},
   "outputs": [
    {
     "data": {
      "text/html": [
       "<div>\n",
       "<style scoped>\n",
       "    .dataframe tbody tr th:only-of-type {\n",
       "        vertical-align: middle;\n",
       "    }\n",
       "\n",
       "    .dataframe tbody tr th {\n",
       "        vertical-align: top;\n",
       "    }\n",
       "\n",
       "    .dataframe thead th {\n",
       "        text-align: right;\n",
       "    }\n",
       "</style>\n",
       "<table border=\"1\" class=\"dataframe\">\n",
       "  <thead>\n",
       "    <tr style=\"text-align: right;\">\n",
       "      <th></th>\n",
       "      <th>MSSubClass_30</th>\n",
       "      <th>MSSubClass_40</th>\n",
       "      <th>MSSubClass_45</th>\n",
       "      <th>MSSubClass_50</th>\n",
       "      <th>MSSubClass_60</th>\n",
       "      <th>MSSubClass_70</th>\n",
       "      <th>MSSubClass_75</th>\n",
       "      <th>MSSubClass_80</th>\n",
       "      <th>MSSubClass_85</th>\n",
       "      <th>MSSubClass_90</th>\n",
       "      <th>...</th>\n",
       "      <th>GarageCond_Po</th>\n",
       "      <th>GarageCond_TA</th>\n",
       "      <th>PavedDrive_P</th>\n",
       "      <th>PavedDrive_Y</th>\n",
       "      <th>SaleType_New</th>\n",
       "      <th>SaleType_Other</th>\n",
       "      <th>SaleType_WD</th>\n",
       "      <th>SaleCondition_Normal</th>\n",
       "      <th>SaleCondition_Other</th>\n",
       "      <th>SaleCondition_Partial</th>\n",
       "    </tr>\n",
       "  </thead>\n",
       "  <tbody>\n",
       "    <tr>\n",
       "      <th>0</th>\n",
       "      <td>0</td>\n",
       "      <td>0</td>\n",
       "      <td>0</td>\n",
       "      <td>0</td>\n",
       "      <td>1</td>\n",
       "      <td>0</td>\n",
       "      <td>0</td>\n",
       "      <td>0</td>\n",
       "      <td>0</td>\n",
       "      <td>0</td>\n",
       "      <td>...</td>\n",
       "      <td>0</td>\n",
       "      <td>1</td>\n",
       "      <td>0</td>\n",
       "      <td>1</td>\n",
       "      <td>0</td>\n",
       "      <td>0</td>\n",
       "      <td>1</td>\n",
       "      <td>1</td>\n",
       "      <td>0</td>\n",
       "      <td>0</td>\n",
       "    </tr>\n",
       "    <tr>\n",
       "      <th>1</th>\n",
       "      <td>0</td>\n",
       "      <td>0</td>\n",
       "      <td>0</td>\n",
       "      <td>0</td>\n",
       "      <td>0</td>\n",
       "      <td>0</td>\n",
       "      <td>0</td>\n",
       "      <td>0</td>\n",
       "      <td>0</td>\n",
       "      <td>0</td>\n",
       "      <td>...</td>\n",
       "      <td>0</td>\n",
       "      <td>1</td>\n",
       "      <td>0</td>\n",
       "      <td>1</td>\n",
       "      <td>0</td>\n",
       "      <td>0</td>\n",
       "      <td>1</td>\n",
       "      <td>1</td>\n",
       "      <td>0</td>\n",
       "      <td>0</td>\n",
       "    </tr>\n",
       "    <tr>\n",
       "      <th>2</th>\n",
       "      <td>0</td>\n",
       "      <td>0</td>\n",
       "      <td>0</td>\n",
       "      <td>0</td>\n",
       "      <td>1</td>\n",
       "      <td>0</td>\n",
       "      <td>0</td>\n",
       "      <td>0</td>\n",
       "      <td>0</td>\n",
       "      <td>0</td>\n",
       "      <td>...</td>\n",
       "      <td>0</td>\n",
       "      <td>1</td>\n",
       "      <td>0</td>\n",
       "      <td>1</td>\n",
       "      <td>0</td>\n",
       "      <td>0</td>\n",
       "      <td>1</td>\n",
       "      <td>1</td>\n",
       "      <td>0</td>\n",
       "      <td>0</td>\n",
       "    </tr>\n",
       "    <tr>\n",
       "      <th>3</th>\n",
       "      <td>0</td>\n",
       "      <td>0</td>\n",
       "      <td>0</td>\n",
       "      <td>0</td>\n",
       "      <td>0</td>\n",
       "      <td>1</td>\n",
       "      <td>0</td>\n",
       "      <td>0</td>\n",
       "      <td>0</td>\n",
       "      <td>0</td>\n",
       "      <td>...</td>\n",
       "      <td>0</td>\n",
       "      <td>1</td>\n",
       "      <td>0</td>\n",
       "      <td>1</td>\n",
       "      <td>0</td>\n",
       "      <td>0</td>\n",
       "      <td>1</td>\n",
       "      <td>0</td>\n",
       "      <td>0</td>\n",
       "      <td>0</td>\n",
       "    </tr>\n",
       "    <tr>\n",
       "      <th>4</th>\n",
       "      <td>0</td>\n",
       "      <td>0</td>\n",
       "      <td>0</td>\n",
       "      <td>0</td>\n",
       "      <td>1</td>\n",
       "      <td>0</td>\n",
       "      <td>0</td>\n",
       "      <td>0</td>\n",
       "      <td>0</td>\n",
       "      <td>0</td>\n",
       "      <td>...</td>\n",
       "      <td>0</td>\n",
       "      <td>1</td>\n",
       "      <td>0</td>\n",
       "      <td>1</td>\n",
       "      <td>0</td>\n",
       "      <td>0</td>\n",
       "      <td>1</td>\n",
       "      <td>1</td>\n",
       "      <td>0</td>\n",
       "      <td>0</td>\n",
       "    </tr>\n",
       "  </tbody>\n",
       "</table>\n",
       "<p>5 rows × 190 columns</p>\n",
       "</div>"
      ],
      "text/plain": [
       "   MSSubClass_30  MSSubClass_40  MSSubClass_45  MSSubClass_50  MSSubClass_60  \\\n",
       "0              0              0              0              0              1   \n",
       "1              0              0              0              0              0   \n",
       "2              0              0              0              0              1   \n",
       "3              0              0              0              0              0   \n",
       "4              0              0              0              0              1   \n",
       "\n",
       "   MSSubClass_70  MSSubClass_75  MSSubClass_80  MSSubClass_85  MSSubClass_90  \\\n",
       "0              0              0              0              0              0   \n",
       "1              0              0              0              0              0   \n",
       "2              0              0              0              0              0   \n",
       "3              1              0              0              0              0   \n",
       "4              0              0              0              0              0   \n",
       "\n",
       "   ...  GarageCond_Po  GarageCond_TA  PavedDrive_P  PavedDrive_Y  \\\n",
       "0  ...              0              1             0             1   \n",
       "1  ...              0              1             0             1   \n",
       "2  ...              0              1             0             1   \n",
       "3  ...              0              1             0             1   \n",
       "4  ...              0              1             0             1   \n",
       "\n",
       "   SaleType_New  SaleType_Other  SaleType_WD  SaleCondition_Normal  \\\n",
       "0             0               0            1                     1   \n",
       "1             0               0            1                     1   \n",
       "2             0               0            1                     1   \n",
       "3             0               0            1                     0   \n",
       "4             0               0            1                     1   \n",
       "\n",
       "   SaleCondition_Other  SaleCondition_Partial  \n",
       "0                    0                      0  \n",
       "1                    0                      0  \n",
       "2                    0                      0  \n",
       "3                    0                      0  \n",
       "4                    0                      0  \n",
       "\n",
       "[5 rows x 190 columns]"
      ]
     },
     "execution_count": 168,
     "metadata": {},
     "output_type": "execute_result"
    }
   ],
   "source": [
    "# Creating dummy variables for categorical variables\n",
    "\n",
    "df_dummies = pd.get_dummies(df_categorical, drop_first=True)\n",
    "df_dummies.head()"
   ]
  },
  {
   "cell_type": "code",
   "execution_count": 169,
   "id": "02d3f5c7",
   "metadata": {},
   "outputs": [
    {
     "data": {
      "text/plain": [
       "(1460, 215)"
      ]
     },
     "execution_count": 169,
     "metadata": {},
     "output_type": "execute_result"
    }
   ],
   "source": [
    "# Concat dummy variables with numeric variables\n",
    "\n",
    "X = pd.concat([df_numeric, df_dummies], axis=1)\n",
    "X.shape"
   ]
  },
  {
   "cell_type": "markdown",
   "id": "e50f57c2",
   "metadata": {},
   "source": [
    "### 3. Data preparation"
   ]
  },
  {
   "cell_type": "markdown",
   "id": "a5cd2d79",
   "metadata": {},
   "source": [
    "#### Data preprocessing"
   ]
  },
  {
   "cell_type": "code",
   "execution_count": 170,
   "id": "13477acb",
   "metadata": {},
   "outputs": [],
   "source": [
    "# Importing necessary library\n",
    "\n",
    "from sklearn.model_selection import train_test_split"
   ]
  },
  {
   "cell_type": "code",
   "execution_count": 171,
   "id": "7940615d",
   "metadata": {},
   "outputs": [],
   "source": [
    "# Splitting X and y variables into train and test datasets\n",
    "\n",
    "X_train, X_test, y_train, y_test = train_test_split(X, y, test_size=0.3, random_state=42)"
   ]
  },
  {
   "cell_type": "code",
   "execution_count": 172,
   "id": "79275bc9",
   "metadata": {},
   "outputs": [
    {
     "data": {
      "text/plain": [
       "(1022, 215)"
      ]
     },
     "execution_count": 172,
     "metadata": {},
     "output_type": "execute_result"
    }
   ],
   "source": [
    "X_train.shape"
   ]
  },
  {
   "cell_type": "code",
   "execution_count": 173,
   "id": "86a7c86c",
   "metadata": {},
   "outputs": [
    {
     "data": {
      "text/plain": [
       "(438, 215)"
      ]
     },
     "execution_count": 173,
     "metadata": {},
     "output_type": "execute_result"
    }
   ],
   "source": [
    "X_test.shape"
   ]
  },
  {
   "cell_type": "code",
   "execution_count": 174,
   "id": "bed0dee1",
   "metadata": {},
   "outputs": [],
   "source": [
    "# Importing library for Standard Sccaler\n",
    "\n",
    "from sklearn.preprocessing import StandardScaler"
   ]
  },
  {
   "cell_type": "code",
   "execution_count": 175,
   "id": "9396c0ff",
   "metadata": {},
   "outputs": [],
   "source": [
    "# Reshaping the array\n",
    "\n",
    "y_train = y_train.values.reshape(-1,1)"
   ]
  },
  {
   "cell_type": "code",
   "execution_count": 176,
   "id": "33008df8",
   "metadata": {},
   "outputs": [],
   "source": [
    "y_test = y_test.values.reshape(-1,1)"
   ]
  },
  {
   "cell_type": "code",
   "execution_count": 177,
   "id": "dbe68f77",
   "metadata": {},
   "outputs": [],
   "source": [
    "# Scalling numberical variables by using Standard Sccaler\n",
    "\n",
    "scaler = StandardScaler()\n",
    "X_train[num_features] = scaler.fit_transform(X_train[num_features])\n",
    "X_test[num_features] = scaler.fit_transform(X_test[num_features])\n",
    "y_train = scaler.fit_transform(y_train)\n",
    "y_test = scaler.fit_transform(y_test)"
   ]
  },
  {
   "cell_type": "code",
   "execution_count": 178,
   "id": "6a43ba6e",
   "metadata": {},
   "outputs": [
    {
     "data": {
      "text/html": [
       "<div>\n",
       "<style scoped>\n",
       "    .dataframe tbody tr th:only-of-type {\n",
       "        vertical-align: middle;\n",
       "    }\n",
       "\n",
       "    .dataframe tbody tr th {\n",
       "        vertical-align: top;\n",
       "    }\n",
       "\n",
       "    .dataframe thead th {\n",
       "        text-align: right;\n",
       "    }\n",
       "</style>\n",
       "<table border=\"1\" class=\"dataframe\">\n",
       "  <thead>\n",
       "    <tr style=\"text-align: right;\">\n",
       "      <th></th>\n",
       "      <th>LotFrontage</th>\n",
       "      <th>LotArea</th>\n",
       "      <th>MasVnrArea</th>\n",
       "      <th>BsmtFinSF1</th>\n",
       "      <th>BsmtFinSF2</th>\n",
       "      <th>BsmtUnfSF</th>\n",
       "      <th>TotalBsmtSF</th>\n",
       "      <th>1stFlrSF</th>\n",
       "      <th>2ndFlrSF</th>\n",
       "      <th>GrLivArea</th>\n",
       "      <th>...</th>\n",
       "      <th>GarageCond_Po</th>\n",
       "      <th>GarageCond_TA</th>\n",
       "      <th>PavedDrive_P</th>\n",
       "      <th>PavedDrive_Y</th>\n",
       "      <th>SaleType_New</th>\n",
       "      <th>SaleType_Other</th>\n",
       "      <th>SaleType_WD</th>\n",
       "      <th>SaleCondition_Normal</th>\n",
       "      <th>SaleCondition_Other</th>\n",
       "      <th>SaleCondition_Partial</th>\n",
       "    </tr>\n",
       "  </thead>\n",
       "  <tbody>\n",
       "    <tr>\n",
       "      <th>135</th>\n",
       "      <td>0.526309</td>\n",
       "      <td>0.050961</td>\n",
       "      <td>1.104477</td>\n",
       "      <td>-1.029631</td>\n",
       "      <td>-0.28883</td>\n",
       "      <td>1.667630</td>\n",
       "      <td>0.624610</td>\n",
       "      <td>1.426623</td>\n",
       "      <td>-0.803326</td>\n",
       "      <td>0.323820</td>\n",
       "      <td>...</td>\n",
       "      <td>0</td>\n",
       "      <td>1</td>\n",
       "      <td>0</td>\n",
       "      <td>1</td>\n",
       "      <td>0</td>\n",
       "      <td>0</td>\n",
       "      <td>1</td>\n",
       "      <td>1</td>\n",
       "      <td>0</td>\n",
       "      <td>0</td>\n",
       "    </tr>\n",
       "    <tr>\n",
       "      <th>1452</th>\n",
       "      <td>-1.746866</td>\n",
       "      <td>-1.260377</td>\n",
       "      <td>-0.142961</td>\n",
       "      <td>0.246129</td>\n",
       "      <td>-0.28883</td>\n",
       "      <td>-1.293059</td>\n",
       "      <td>-1.248545</td>\n",
       "      <td>-0.253965</td>\n",
       "      <td>-0.803326</td>\n",
       "      <td>-0.906848</td>\n",
       "      <td>...</td>\n",
       "      <td>0</td>\n",
       "      <td>1</td>\n",
       "      <td>0</td>\n",
       "      <td>1</td>\n",
       "      <td>0</td>\n",
       "      <td>0</td>\n",
       "      <td>1</td>\n",
       "      <td>1</td>\n",
       "      <td>0</td>\n",
       "      <td>0</td>\n",
       "    </tr>\n",
       "    <tr>\n",
       "      <th>762</th>\n",
       "      <td>0.122189</td>\n",
       "      <td>-0.292229</td>\n",
       "      <td>-0.622745</td>\n",
       "      <td>-0.973656</td>\n",
       "      <td>-0.28883</td>\n",
       "      <td>0.368923</td>\n",
       "      <td>-0.731386</td>\n",
       "      <td>-1.102524</td>\n",
       "      <td>0.976040</td>\n",
       "      <td>0.051459</td>\n",
       "      <td>...</td>\n",
       "      <td>0</td>\n",
       "      <td>1</td>\n",
       "      <td>0</td>\n",
       "      <td>1</td>\n",
       "      <td>0</td>\n",
       "      <td>1</td>\n",
       "      <td>0</td>\n",
       "      <td>1</td>\n",
       "      <td>0</td>\n",
       "      <td>0</td>\n",
       "    </tr>\n",
       "    <tr>\n",
       "      <th>932</th>\n",
       "      <td>0.728369</td>\n",
       "      <td>0.298604</td>\n",
       "      <td>1.188439</td>\n",
       "      <td>-1.029631</td>\n",
       "      <td>-0.28883</td>\n",
       "      <td>2.787084</td>\n",
       "      <td>2.111751</td>\n",
       "      <td>2.041003</td>\n",
       "      <td>-0.803326</td>\n",
       "      <td>0.773720</td>\n",
       "      <td>...</td>\n",
       "      <td>0</td>\n",
       "      <td>1</td>\n",
       "      <td>0</td>\n",
       "      <td>1</td>\n",
       "      <td>0</td>\n",
       "      <td>0</td>\n",
       "      <td>1</td>\n",
       "      <td>1</td>\n",
       "      <td>0</td>\n",
       "      <td>0</td>\n",
       "    </tr>\n",
       "    <tr>\n",
       "      <th>435</th>\n",
       "      <td>-1.342746</td>\n",
       "      <td>0.103025</td>\n",
       "      <td>-0.622745</td>\n",
       "      <td>-0.131701</td>\n",
       "      <td>2.14866</td>\n",
       "      <td>-1.134126</td>\n",
       "      <td>-0.624985</td>\n",
       "      <td>-0.928955</td>\n",
       "      <td>1.091938</td>\n",
       "      <td>0.281453</td>\n",
       "      <td>...</td>\n",
       "      <td>0</td>\n",
       "      <td>1</td>\n",
       "      <td>0</td>\n",
       "      <td>1</td>\n",
       "      <td>0</td>\n",
       "      <td>1</td>\n",
       "      <td>0</td>\n",
       "      <td>1</td>\n",
       "      <td>0</td>\n",
       "      <td>0</td>\n",
       "    </tr>\n",
       "  </tbody>\n",
       "</table>\n",
       "<p>5 rows × 215 columns</p>\n",
       "</div>"
      ],
      "text/plain": [
       "      LotFrontage   LotArea  MasVnrArea  BsmtFinSF1  BsmtFinSF2  BsmtUnfSF  \\\n",
       "135      0.526309  0.050961    1.104477   -1.029631    -0.28883   1.667630   \n",
       "1452    -1.746866 -1.260377   -0.142961    0.246129    -0.28883  -1.293059   \n",
       "762      0.122189 -0.292229   -0.622745   -0.973656    -0.28883   0.368923   \n",
       "932      0.728369  0.298604    1.188439   -1.029631    -0.28883   2.787084   \n",
       "435     -1.342746  0.103025   -0.622745   -0.131701     2.14866  -1.134126   \n",
       "\n",
       "      TotalBsmtSF  1stFlrSF  2ndFlrSF  GrLivArea  ...  GarageCond_Po  \\\n",
       "135      0.624610  1.426623 -0.803326   0.323820  ...              0   \n",
       "1452    -1.248545 -0.253965 -0.803326  -0.906848  ...              0   \n",
       "762     -0.731386 -1.102524  0.976040   0.051459  ...              0   \n",
       "932      2.111751  2.041003 -0.803326   0.773720  ...              0   \n",
       "435     -0.624985 -0.928955  1.091938   0.281453  ...              0   \n",
       "\n",
       "      GarageCond_TA  PavedDrive_P  PavedDrive_Y  SaleType_New  SaleType_Other  \\\n",
       "135               1             0             1             0               0   \n",
       "1452              1             0             1             0               0   \n",
       "762               1             0             1             0               1   \n",
       "932               1             0             1             0               0   \n",
       "435               1             0             1             0               1   \n",
       "\n",
       "      SaleType_WD  SaleCondition_Normal  SaleCondition_Other  \\\n",
       "135             1                     1                    0   \n",
       "1452            1                     1                    0   \n",
       "762             0                     1                    0   \n",
       "932             1                     1                    0   \n",
       "435             0                     1                    0   \n",
       "\n",
       "      SaleCondition_Partial  \n",
       "135                       0  \n",
       "1452                      0  \n",
       "762                       0  \n",
       "932                       0  \n",
       "435                       0  \n",
       "\n",
       "[5 rows x 215 columns]"
      ]
     },
     "execution_count": 178,
     "metadata": {},
     "output_type": "execute_result"
    }
   ],
   "source": [
    "X_train.head()"
   ]
  },
  {
   "cell_type": "markdown",
   "id": "9d08fc1e",
   "metadata": {},
   "source": [
    "### 4.  Model selection and Training"
   ]
  },
  {
   "cell_type": "code",
   "execution_count": 179,
   "id": "87e0d8d1",
   "metadata": {},
   "outputs": [],
   "source": [
    "# Importing linear regression metrics\n",
    "\n",
    "from sklearn.metrics import r2_score, mean_squared_error"
   ]
  },
  {
   "cell_type": "markdown",
   "id": "df1b39a4",
   "metadata": {},
   "source": [
    "#### Lasso regressor"
   ]
  },
  {
   "cell_type": "code",
   "execution_count": 180,
   "id": "ddec73dc",
   "metadata": {},
   "outputs": [
    {
     "name": "stdout",
     "output_type": "stream",
     "text": [
      "Fitting 5 folds for each of 28 candidates, totalling 140 fits\n"
     ]
    },
    {
     "data": {
      "text/plain": [
       "GridSearchCV(cv=5, estimator=Lasso(),\n",
       "             param_grid={'alpha': [0.0001, 0.001, 0.01, 0.05, 0.1, 0.2, 0.3,\n",
       "                                   0.4, 0.5, 0.6, 0.7, 0.8, 0.9, 1.0, 2.0, 3.0,\n",
       "                                   4.0, 5.0, 6.0, 7.0, 8.0, 9.0, 10.0, 20, 50,\n",
       "                                   100, 500, 1000]},\n",
       "             return_train_score=True, scoring='neg_mean_absolute_error',\n",
       "             verbose=1)"
      ]
     },
     "execution_count": 180,
     "metadata": {},
     "output_type": "execute_result"
    }
   ],
   "source": [
    "# Cross validation using Lasso regressor to obtain optimum value of alpha\n",
    "\n",
    "lasso = Lasso()\n",
    "\n",
    "params = {'alpha': [0.0001, 0.001, 0.01, 0.05, 0.1, \n",
    " 0.2, 0.3, 0.4, 0.5, 0.6, 0.7, 0.8, 0.9, 1.0, 2.0, 3.0, \n",
    " 4.0, 5.0, 6.0, 7.0, 8.0, 9.0, 10.0, 20, 50, 100, 500, 1000 ]}\n",
    "\n",
    "model_cv = GridSearchCV(estimator = lasso, \n",
    "                        param_grid = params, \n",
    "                        scoring= 'neg_mean_absolute_error', \n",
    "                        cv = 5, \n",
    "                        return_train_score=True,\n",
    "                        verbose = 1)            \n",
    "\n",
    "model_cv.fit(X_train, y_train) "
   ]
  },
  {
   "cell_type": "code",
   "execution_count": 181,
   "id": "675deb63",
   "metadata": {},
   "outputs": [
    {
     "data": {
      "text/plain": [
       "{'alpha': 0.001}"
      ]
     },
     "execution_count": 181,
     "metadata": {},
     "output_type": "execute_result"
    }
   ],
   "source": [
    "# Printing the best hyperparameter alpha\n",
    "\n",
    "model_cv.best_params_"
   ]
  },
  {
   "cell_type": "code",
   "execution_count": 182,
   "id": "cfe85059",
   "metadata": {},
   "outputs": [
    {
     "data": {
      "text/plain": [
       "Lasso(alpha=0.001)"
      ]
     },
     "execution_count": 182,
     "metadata": {},
     "output_type": "execute_result"
    }
   ],
   "source": [
    "# Training the model with optimal alpha value\n",
    "\n",
    "lasso = Lasso(alpha = 0.001)\n",
    "        \n",
    "lasso.fit(X_train, y_train) "
   ]
  },
  {
   "cell_type": "code",
   "execution_count": 183,
   "id": "d98a20bf",
   "metadata": {},
   "outputs": [
    {
     "data": {
      "text/plain": [
       "array([ 1.16541980e-02,  3.83977940e-02, -8.94476895e-03,  0.00000000e+00,\n",
       "       -0.00000000e+00, -7.33729183e-02,  1.52088156e-01,  6.21140143e-03,\n",
       "        9.75341682e-03,  3.42698028e-01,  2.50388538e-02, -2.87209492e-03,\n",
       "        4.62693779e-02,  3.27138493e-02,  6.76692237e-03, -6.01757407e-02,\n",
       "        6.52540373e-03,  5.32462191e-02,  9.38498800e-02,  4.39294042e-03,\n",
       "        1.92921999e-02,  1.03814222e-02,  1.67038413e-02,  4.34924250e-03,\n",
       "       -1.72913378e-01, -1.83522162e-01,  0.00000000e+00,  0.00000000e+00,\n",
       "       -3.25848572e-02, -6.39000111e-02,  5.40824701e-02,  0.00000000e+00,\n",
       "        0.00000000e+00, -0.00000000e+00, -0.00000000e+00, -0.00000000e+00,\n",
       "       -1.90684908e-01, -0.00000000e+00,  0.00000000e+00,  1.36259541e-02,\n",
       "       -9.35825445e-02, -0.00000000e+00,  1.71621469e-01,  0.00000000e+00,\n",
       "        8.49106075e-02,  9.58837334e-02, -5.71343990e-02, -1.15269051e-02,\n",
       "       -3.29720326e-02,  0.00000000e+00,  0.00000000e+00,  1.02397427e-01,\n",
       "        1.48910612e-01,  0.00000000e+00,  2.35158376e-01, -9.79436021e-02,\n",
       "        0.00000000e+00, -4.29776185e-03, -2.36574761e-01, -2.74672739e-02,\n",
       "       -4.17839033e-02, -2.25661211e-02,  1.21948811e-01,  1.97140636e-01,\n",
       "       -0.00000000e+00,  0.00000000e+00, -0.00000000e+00, -0.00000000e+00,\n",
       "       -6.24903832e-03,  1.72437380e-01,  2.51732720e-01,  0.00000000e+00,\n",
       "        0.00000000e+00, -4.33314651e-02,  0.00000000e+00,  5.24543090e-02,\n",
       "        1.38402093e-01,  0.00000000e+00,  1.00090654e-01, -4.36567583e-01,\n",
       "       -0.00000000e+00,  0.00000000e+00, -0.00000000e+00, -9.28611759e-02,\n",
       "       -4.95197751e-02,  1.77914370e-02,  3.81054182e-02, -1.75302664e-02,\n",
       "       -2.66638681e-02,  0.00000000e+00, -0.00000000e+00, -3.79832734e-01,\n",
       "       -1.53375420e-01, -6.06158250e-02,  0.00000000e+00,  5.63926243e-02,\n",
       "        1.99358356e-01,  3.29797318e-01,  1.09593856e-01, -0.00000000e+00,\n",
       "       -4.85548261e-01, -1.42769674e-01, -1.21489402e-01,  0.00000000e+00,\n",
       "        1.26388919e-01,  1.38917429e-01,  3.07975346e-01, -6.76673256e-02,\n",
       "        0.00000000e+00, -6.13757450e-02,  0.00000000e+00, -5.47994139e-01,\n",
       "        0.00000000e+00,  0.00000000e+00,  1.18043902e-01,  2.14818342e-01,\n",
       "        0.00000000e+00, -1.20799454e-02,  1.03716864e-02, -0.00000000e+00,\n",
       "       -0.00000000e+00, -0.00000000e+00, -0.00000000e+00, -4.03036536e-03,\n",
       "        0.00000000e+00, -0.00000000e+00, -0.00000000e+00,  0.00000000e+00,\n",
       "       -0.00000000e+00,  0.00000000e+00,  0.00000000e+00, -0.00000000e+00,\n",
       "       -5.26221537e-02, -0.00000000e+00, -0.00000000e+00,  0.00000000e+00,\n",
       "        1.23446271e-02, -0.00000000e+00, -0.00000000e+00,  0.00000000e+00,\n",
       "        1.38798290e-02, -3.70266733e-02,  0.00000000e+00, -2.14835303e-02,\n",
       "       -0.00000000e+00, -0.00000000e+00, -0.00000000e+00,  3.10682452e-02,\n",
       "       -0.00000000e+00, -0.00000000e+00,  7.28628599e-02, -0.00000000e+00,\n",
       "       -8.26391522e-02,  0.00000000e+00, -1.12628189e-01,  5.25157102e-02,\n",
       "        0.00000000e+00, -0.00000000e+00,  1.08335805e-01,  1.16435656e-01,\n",
       "       -2.01809905e-03,  0.00000000e+00, -2.75163137e-02, -2.20555896e-02,\n",
       "        1.22242179e-02, -6.01546334e-02,  0.00000000e+00, -0.00000000e+00,\n",
       "       -2.04168319e-02, -3.26947149e-02,  0.00000000e+00, -2.17267834e-02,\n",
       "        0.00000000e+00, -0.00000000e+00,  2.51067264e-02, -6.45843640e-02,\n",
       "       -8.92122790e-02, -6.04997809e-02, -0.00000000e+00, -5.43571850e-02,\n",
       "        2.12664433e-01, -0.00000000e+00, -9.83348086e-02, -1.10162487e-01,\n",
       "       -1.49530261e-01,  1.22584077e-01, -2.19304881e-02,  2.80860030e-01,\n",
       "        4.99801195e-02,  0.00000000e+00,  0.00000000e+00, -0.00000000e+00,\n",
       "        7.25634668e-02, -4.85504013e-02, -7.68414003e-16,  1.88389863e-02,\n",
       "       -0.00000000e+00, -0.00000000e+00,  5.83837895e-02, -2.30744932e-03,\n",
       "        0.00000000e+00, -0.00000000e+00, -2.57176943e-03, -0.00000000e+00,\n",
       "       -0.00000000e+00,  0.00000000e+00,  0.00000000e+00,  0.00000000e+00,\n",
       "        2.90336174e-02,  1.77030372e-02,  1.05406429e-01, -0.00000000e+00,\n",
       "        1.12900081e-01,  4.37056140e-02,  1.68728739e-01])"
      ]
     },
     "execution_count": 183,
     "metadata": {},
     "output_type": "execute_result"
    }
   ],
   "source": [
    "# Printing coefficients which have been penalised\n",
    "\n",
    "lasso.coef_"
   ]
  },
  {
   "cell_type": "markdown",
   "id": "bb51a40c",
   "metadata": {},
   "source": [
    "#### Making predictions"
   ]
  },
  {
   "cell_type": "code",
   "execution_count": 184,
   "id": "b46fe9d7",
   "metadata": {},
   "outputs": [
    {
     "name": "stdout",
     "output_type": "stream",
     "text": [
      "0.926600801390168\n",
      "0.9038207670844164\n",
      "1988184.8354064703\n",
      "376361.12256490707\n",
      "0.07339919860983202\n",
      "0.09617923291558358\n"
     ]
    }
   ],
   "source": [
    "# Evaluating model performance\n",
    "\n",
    "y_pred_train = lasso.predict(X_train)\n",
    "y_pred_test = lasso.predict(X_test)\n",
    "\n",
    "metric1 = []\n",
    "r2_train_lr = r2_score(y_train, y_pred_train)\n",
    "print(r2_train_lr)\n",
    "metric1.append(r2_train_lr)\n",
    "\n",
    "r2_test_lr = r2_score(y_test, y_pred_test)\n",
    "print(r2_test_lr)\n",
    "metric1.append(r2_test_lr)\n",
    "\n",
    "rss_train_lr = np.sum(np.square(y_train - y_pred_train))\n",
    "print(rss_train_lr)\n",
    "metric1.append(rss_train_lr)\n",
    "\n",
    "rss_test_lr = np.sum(np.square(y_test - y_pred_test))\n",
    "print(rss_test_lr)\n",
    "metric1.append(rss_test_lr)\n",
    "\n",
    "mse_train_lr = mean_squared_error(y_train, y_pred_train)\n",
    "print(mse_train_lr)\n",
    "metric1.append(mse_train_lr**0.5)\n",
    "\n",
    "mse_test_lr = mean_squared_error(y_test, y_pred_test)\n",
    "print(mse_test_lr)\n",
    "metric1.append(mse_test_lr**0.5)"
   ]
  },
  {
   "cell_type": "markdown",
   "id": "4f74cad7",
   "metadata": {},
   "source": [
    "#### Ridge regressor"
   ]
  },
  {
   "cell_type": "code",
   "execution_count": 185,
   "id": "2b77f158",
   "metadata": {},
   "outputs": [
    {
     "name": "stdout",
     "output_type": "stream",
     "text": [
      "Fitting 5 folds for each of 28 candidates, totalling 140 fits\n"
     ]
    },
    {
     "data": {
      "text/plain": [
       "GridSearchCV(cv=5, estimator=Ridge(),\n",
       "             param_grid={'alpha': [0.0001, 0.001, 0.01, 0.05, 0.1, 0.2, 0.3,\n",
       "                                   0.4, 0.5, 0.6, 0.7, 0.8, 0.9, 1.0, 2.0, 3.0,\n",
       "                                   4.0, 5.0, 6.0, 7.0, 8.0, 9.0, 10.0, 20, 50,\n",
       "                                   100, 500, 1000]},\n",
       "             return_train_score=True, scoring='neg_mean_absolute_error',\n",
       "             verbose=1)"
      ]
     },
     "execution_count": 185,
     "metadata": {},
     "output_type": "execute_result"
    }
   ],
   "source": [
    "# Cross validation using Ridge regressor to obtain optimum value of alpha\n",
    "\n",
    "ridge = Ridge()\n",
    "\n",
    "model_cv = GridSearchCV(estimator = ridge, \n",
    "                        param_grid = params, \n",
    "                        scoring= 'neg_mean_absolute_error',  \n",
    "                        cv = 5, \n",
    "                        return_train_score=True,\n",
    "                        verbose = 1)            \n",
    "model_cv.fit(X_train, y_train)"
   ]
  },
  {
   "cell_type": "code",
   "execution_count": 186,
   "id": "744874c4",
   "metadata": {},
   "outputs": [
    {
     "data": {
      "text/plain": [
       "{'alpha': 7.0}"
      ]
     },
     "execution_count": 186,
     "metadata": {},
     "output_type": "execute_result"
    }
   ],
   "source": [
    "# Printing the best hyperparameter alpha\n",
    "\n",
    "model_cv.best_params_"
   ]
  },
  {
   "cell_type": "code",
   "execution_count": 187,
   "id": "9d4bc52b",
   "metadata": {},
   "outputs": [
    {
     "data": {
      "text/plain": [
       "Ridge(alpha=7.0)"
      ]
     },
     "execution_count": 187,
     "metadata": {},
     "output_type": "execute_result"
    }
   ],
   "source": [
    "# Fitting Ridge model for alpha = 7.0\n",
    "\n",
    "ridge = Ridge(alpha = 7.0)\n",
    "\n",
    "ridge.fit(X_train, y_train)"
   ]
  },
  {
   "cell_type": "code",
   "execution_count": 188,
   "id": "db606efb",
   "metadata": {},
   "outputs": [
    {
     "data": {
      "text/plain": [
       "array([[ 1.20659388e-02,  3.21974189e-02, -1.22941362e-02,\n",
       "        -1.25506237e-02,  3.87733696e-03, -8.11058815e-02,\n",
       "         1.50130494e-01,  7.24883970e-02,  8.99533227e-02,\n",
       "         2.47776959e-01,  2.36214070e-02, -2.99728889e-03,\n",
       "         5.13104472e-02,  3.95781030e-02,  1.49758348e-02,\n",
       "        -5.64557588e-02,  5.21491996e-03,  4.94922243e-02,\n",
       "         9.64859380e-02,  2.77844643e-03,  2.06266650e-02,\n",
       "         1.16912979e-02,  1.75914028e-02,  4.75152332e-03,\n",
       "        -1.53862023e-01, -1.78329332e-01,  2.46771269e-02,\n",
       "         8.42293920e-03, -2.89740054e-02, -4.47514672e-02,\n",
       "         1.28913621e-01,  5.80325650e-02, -2.15087303e-02,\n",
       "         1.16160252e-02, -1.79365078e-02, -1.59893443e-02,\n",
       "        -1.66277866e-01, -2.53226535e-02,  1.05761130e-02,\n",
       "         1.49599751e-02, -9.18042361e-02, -3.45186128e-03,\n",
       "         1.91559525e-01,  2.83551889e-02,  1.10467407e-01,\n",
       "         9.13557523e-02, -8.89713339e-02, -1.91037760e-02,\n",
       "        -4.38532459e-02,  5.02839321e-02, -1.21852554e-02,\n",
       "         5.28414845e-02,  1.05941901e-01, -3.30045428e-02,\n",
       "         1.87996248e-01, -1.63862497e-01, -3.00407571e-02,\n",
       "        -7.26809234e-02, -2.09922109e-01, -7.73716416e-02,\n",
       "        -9.47600001e-02, -7.31764944e-02,  1.19979472e-01,\n",
       "         1.75718230e-01, -6.81777823e-02,  2.33568367e-02,\n",
       "        -5.70304927e-02, -5.85923107e-02, -5.13785244e-02,\n",
       "         1.42384385e-01,  2.20972413e-01,  1.56112387e-04,\n",
       "         6.04674718e-02, -8.34426505e-02,  1.38996765e-02,\n",
       "         7.64101946e-02,  1.42103511e-01, -1.46531150e-03,\n",
       "         1.57339640e-01, -1.95079144e-01,  2.72793942e-02,\n",
       "         2.07342975e-02, -1.79365078e-02, -1.24660310e-01,\n",
       "        -8.29295538e-02,  3.35362225e-02,  5.97289965e-02,\n",
       "        -6.31981945e-02, -5.98545886e-02, -1.97447729e-03,\n",
       "        -4.23909160e-02, -2.46628919e-01, -1.22223186e-01,\n",
       "        -3.42139227e-02,  3.45575863e-02,  7.76340911e-02,\n",
       "         2.07355047e-01,  2.74538890e-01,  6.72762055e-02,\n",
       "        -1.25959208e-02, -3.31962441e-01, -1.11862252e-01,\n",
       "        -8.06749561e-02,  3.46183613e-02,  1.54470290e-01,\n",
       "         1.54392506e-01,  2.55865126e-01, -8.08764624e-02,\n",
       "         9.59611792e-03, -7.65118383e-02,  7.98512559e-02,\n",
       "        -2.42024404e-01,  6.87319650e-03,  3.44491399e-02,\n",
       "         1.41595214e-01,  1.78424805e-01,  3.36318520e-03,\n",
       "        -4.11122926e-02,  3.17656714e-02, -8.01959029e-02,\n",
       "        -2.59215686e-02, -2.75568636e-02, -1.84066661e-02,\n",
       "        -7.58309607e-02, -1.40285593e-02, -4.67059248e-02,\n",
       "        -5.83108434e-03, -3.53696718e-03,  7.52503775e-03,\n",
       "         6.08976970e-02, -3.12243457e-02, -4.46848017e-03,\n",
       "        -5.72883987e-02,  4.86865701e-03, -2.97735737e-02,\n",
       "        -1.96077436e-03,  6.43373159e-02, -5.75449091e-03,\n",
       "         2.36927597e-02,  1.59285858e-02,  4.85022104e-02,\n",
       "        -7.51170553e-02, -3.80791739e-02, -6.82835169e-02,\n",
       "        -3.03943574e-02, -8.32043766e-03, -3.33558946e-02,\n",
       "         2.16494715e-02,  1.09301483e-02, -4.47178666e-02,\n",
       "         7.59962003e-02, -6.00082089e-02, -1.01649514e-01,\n",
       "        -5.43275799e-03, -1.37799527e-01,  8.75158422e-02,\n",
       "        -5.43275799e-03, -6.22507148e-02,  1.25770255e-01,\n",
       "         1.04059827e-01, -1.91539680e-02, -5.43275799e-03,\n",
       "        -3.94755935e-02, -4.19891416e-02,  1.56974124e-02,\n",
       "        -8.75654287e-02, -5.43275799e-03, -2.69923074e-02,\n",
       "        -4.37811913e-02, -8.04449420e-02,  2.45761618e-02,\n",
       "        -4.81569268e-02, -5.43275799e-03, -2.59676422e-02,\n",
       "         2.47492697e-02, -1.21458678e-01, -1.01919597e-01,\n",
       "        -6.61715861e-02, -3.16512205e-02, -6.43346642e-02,\n",
       "         2.08716463e-01, -2.94172975e-03, -1.12549115e-01,\n",
       "        -1.24550235e-01, -1.61278603e-01,  8.81920367e-02,\n",
       "        -9.30616738e-02,  2.28196846e-01,  6.59449370e-02,\n",
       "         4.44104140e-02,  1.83349923e-02, -4.13945221e-02,\n",
       "         9.50949774e-02, -3.82728741e-02, -3.82728741e-02,\n",
       "         1.81715382e-02, -7.56513683e-03, -8.32058622e-02,\n",
       "         3.95056288e-02, -3.82728741e-02,  1.10140362e-03,\n",
       "        -9.47054398e-02, -6.67658589e-02, -2.40523565e-02,\n",
       "        -3.82728741e-02,  8.89590600e-02, -2.78664687e-03,\n",
       "         2.96016674e-02,  4.42986510e-02,  8.16069063e-02,\n",
       "         1.26159103e-01, -1.88333761e-02,  1.31383105e-01,\n",
       "         8.45084535e-02,  9.22842290e-02]])"
      ]
     },
     "execution_count": 188,
     "metadata": {},
     "output_type": "execute_result"
    }
   ],
   "source": [
    "# Printing coefficients which have been penalised\n",
    "\n",
    "ridge.coef_"
   ]
  },
  {
   "cell_type": "markdown",
   "id": "b8030bda",
   "metadata": {},
   "source": [
    "#### Model prediction"
   ]
  },
  {
   "cell_type": "code",
   "execution_count": 189,
   "id": "1679b8ce",
   "metadata": {},
   "outputs": [
    {
     "name": "stdout",
     "output_type": "stream",
     "text": [
      "0.9278406786387053\n",
      "0.9026063266361444\n",
      "73.74682643124319\n",
      "42.65842893336877\n",
      "0.07215932136129471\n",
      "0.09739367336385564\n"
     ]
    }
   ],
   "source": [
    "# Evaluating model performance\n",
    "\n",
    "y_pred_train = ridge.predict(X_train)\n",
    "y_pred_test = ridge.predict(X_test)\n",
    "\n",
    "metric2 = []\n",
    "r2_train_lr = r2_score(y_train, y_pred_train)\n",
    "print(r2_train_lr)\n",
    "metric2.append(r2_train_lr)\n",
    "\n",
    "r2_test_lr = r2_score(y_test, y_pred_test)\n",
    "print(r2_test_lr)\n",
    "metric2.append(r2_test_lr)\n",
    "\n",
    "rss_train_lr = np.sum(np.square(y_train - y_pred_train))\n",
    "print(rss_train_lr)\n",
    "metric2.append(rss_train_lr)\n",
    "\n",
    "rss_test_lr = np.sum(np.square(y_test - y_pred_test))\n",
    "print(rss_test_lr)\n",
    "metric2.append(rss_test_lr)\n",
    "\n",
    "mse_train_lr = mean_squared_error(y_train, y_pred_train)\n",
    "print(mse_train_lr)\n",
    "metric2.append(mse_train_lr**0.5)\n",
    "\n",
    "mse_test_lr = mean_squared_error(y_test, y_pred_test)\n",
    "print(mse_test_lr)\n",
    "metric2.append(mse_test_lr**0.5)"
   ]
  },
  {
   "cell_type": "markdown",
   "id": "8277c194",
   "metadata": {},
   "source": [
    "### 5. Interpretation and inference"
   ]
  },
  {
   "cell_type": "code",
   "execution_count": 190,
   "id": "5c1243a6",
   "metadata": {},
   "outputs": [],
   "source": [
    "# Creating a table which contain all the metrics\n",
    "\n",
    "lr_table = {'Metric': ['R2 Score (Train)','R2 Score (Test)','RSS (Train)','RSS (Test)', 'MSE (Train)','MSE (Test)'],\n",
    "            'Lasso Regression': metric1,\n",
    "            'Ridge Regression': metric2\n",
    "           }\n",
    "\n",
    "final_metric = pd.DataFrame(lr_table, columns = ['Metric', 'Lasso Regression', 'Ridge Regression'])"
   ]
  },
  {
   "cell_type": "code",
   "execution_count": 191,
   "id": "780895ff",
   "metadata": {},
   "outputs": [
    {
     "data": {
      "text/html": [
       "<div>\n",
       "<style scoped>\n",
       "    .dataframe tbody tr th:only-of-type {\n",
       "        vertical-align: middle;\n",
       "    }\n",
       "\n",
       "    .dataframe tbody tr th {\n",
       "        vertical-align: top;\n",
       "    }\n",
       "\n",
       "    .dataframe thead th {\n",
       "        text-align: right;\n",
       "    }\n",
       "</style>\n",
       "<table border=\"1\" class=\"dataframe\">\n",
       "  <thead>\n",
       "    <tr style=\"text-align: right;\">\n",
       "      <th></th>\n",
       "      <th>Metric</th>\n",
       "      <th>Lasso Regression</th>\n",
       "      <th>Ridge Regression</th>\n",
       "    </tr>\n",
       "  </thead>\n",
       "  <tbody>\n",
       "    <tr>\n",
       "      <th>0</th>\n",
       "      <td>R2 Score (Train)</td>\n",
       "      <td>9.266008e-01</td>\n",
       "      <td>0.927841</td>\n",
       "    </tr>\n",
       "    <tr>\n",
       "      <th>1</th>\n",
       "      <td>R2 Score (Test)</td>\n",
       "      <td>9.038208e-01</td>\n",
       "      <td>0.902606</td>\n",
       "    </tr>\n",
       "    <tr>\n",
       "      <th>2</th>\n",
       "      <td>RSS (Train)</td>\n",
       "      <td>1.988185e+06</td>\n",
       "      <td>73.746826</td>\n",
       "    </tr>\n",
       "    <tr>\n",
       "      <th>3</th>\n",
       "      <td>RSS (Test)</td>\n",
       "      <td>3.763611e+05</td>\n",
       "      <td>42.658429</td>\n",
       "    </tr>\n",
       "    <tr>\n",
       "      <th>4</th>\n",
       "      <td>MSE (Train)</td>\n",
       "      <td>2.709229e-01</td>\n",
       "      <td>0.268625</td>\n",
       "    </tr>\n",
       "    <tr>\n",
       "      <th>5</th>\n",
       "      <td>MSE (Test)</td>\n",
       "      <td>3.101278e-01</td>\n",
       "      <td>0.312080</td>\n",
       "    </tr>\n",
       "  </tbody>\n",
       "</table>\n",
       "</div>"
      ],
      "text/plain": [
       "             Metric  Lasso Regression  Ridge Regression\n",
       "0  R2 Score (Train)      9.266008e-01          0.927841\n",
       "1   R2 Score (Test)      9.038208e-01          0.902606\n",
       "2       RSS (Train)      1.988185e+06         73.746826\n",
       "3        RSS (Test)      3.763611e+05         42.658429\n",
       "4       MSE (Train)      2.709229e-01          0.268625\n",
       "5        MSE (Test)      3.101278e-01          0.312080"
      ]
     },
     "execution_count": 191,
     "metadata": {},
     "output_type": "execute_result"
    }
   ],
   "source": [
    "# Comparing metrics values from Ridge and Lasso\n",
    "\n",
    "final_metric"
   ]
  },
  {
   "cell_type": "code",
   "execution_count": 192,
   "id": "6788a3e7",
   "metadata": {},
   "outputs": [
    {
     "data": {
      "text/html": [
       "<div>\n",
       "<style scoped>\n",
       "    .dataframe tbody tr th:only-of-type {\n",
       "        vertical-align: middle;\n",
       "    }\n",
       "\n",
       "    .dataframe tbody tr th {\n",
       "        vertical-align: top;\n",
       "    }\n",
       "\n",
       "    .dataframe thead th {\n",
       "        text-align: right;\n",
       "    }\n",
       "</style>\n",
       "<table border=\"1\" class=\"dataframe\">\n",
       "  <thead>\n",
       "    <tr style=\"text-align: right;\">\n",
       "      <th></th>\n",
       "      <th>Coeff.</th>\n",
       "    </tr>\n",
       "  </thead>\n",
       "  <tbody>\n",
       "    <tr>\n",
       "      <th>GrLivArea</th>\n",
       "      <td>0.342698</td>\n",
       "    </tr>\n",
       "    <tr>\n",
       "      <th>OverallQual_9</th>\n",
       "      <td>0.329797</td>\n",
       "    </tr>\n",
       "    <tr>\n",
       "      <th>OverallCond_9</th>\n",
       "      <td>0.307975</td>\n",
       "    </tr>\n",
       "    <tr>\n",
       "      <th>Functional_Typ</th>\n",
       "      <td>0.280860</td>\n",
       "    </tr>\n",
       "    <tr>\n",
       "      <th>Neighborhood_StoneBr</th>\n",
       "      <td>0.251733</td>\n",
       "    </tr>\n",
       "    <tr>\n",
       "      <th>Neighborhood_Crawfor</th>\n",
       "      <td>0.235158</td>\n",
       "    </tr>\n",
       "    <tr>\n",
       "      <th>Exterior1st_BrkFace</th>\n",
       "      <td>0.214818</td>\n",
       "    </tr>\n",
       "    <tr>\n",
       "      <th>CentralAir_Y</th>\n",
       "      <td>0.212664</td>\n",
       "    </tr>\n",
       "    <tr>\n",
       "      <th>OverallQual_8</th>\n",
       "      <td>0.199358</td>\n",
       "    </tr>\n",
       "    <tr>\n",
       "      <th>Neighborhood_NridgHt</th>\n",
       "      <td>0.197141</td>\n",
       "    </tr>\n",
       "    <tr>\n",
       "      <th>Neighborhood_Somerst</th>\n",
       "      <td>0.172437</td>\n",
       "    </tr>\n",
       "    <tr>\n",
       "      <th>LandContour_HLS</th>\n",
       "      <td>0.171621</td>\n",
       "    </tr>\n",
       "    <tr>\n",
       "      <th>SaleCondition_Partial</th>\n",
       "      <td>0.168729</td>\n",
       "    </tr>\n",
       "    <tr>\n",
       "      <th>TotalBsmtSF</th>\n",
       "      <td>0.152088</td>\n",
       "    </tr>\n",
       "    <tr>\n",
       "      <th>Neighborhood_ClearCr</th>\n",
       "      <td>0.148911</td>\n",
       "    </tr>\n",
       "    <tr>\n",
       "      <th>OverallCond_8</th>\n",
       "      <td>0.138917</td>\n",
       "    </tr>\n",
       "    <tr>\n",
       "      <th>Condition1_Norm</th>\n",
       "      <td>0.138402</td>\n",
       "    </tr>\n",
       "    <tr>\n",
       "      <th>OverallCond_7</th>\n",
       "      <td>0.126389</td>\n",
       "    </tr>\n",
       "    <tr>\n",
       "      <th>Functional_Min</th>\n",
       "      <td>0.122584</td>\n",
       "    </tr>\n",
       "    <tr>\n",
       "      <th>Neighborhood_NoRidge</th>\n",
       "      <td>0.121949</td>\n",
       "    </tr>\n",
       "  </tbody>\n",
       "</table>\n",
       "</div>"
      ],
      "text/plain": [
       "                         Coeff.\n",
       "GrLivArea              0.342698\n",
       "OverallQual_9          0.329797\n",
       "OverallCond_9          0.307975\n",
       "Functional_Typ         0.280860\n",
       "Neighborhood_StoneBr   0.251733\n",
       "Neighborhood_Crawfor   0.235158\n",
       "Exterior1st_BrkFace    0.214818\n",
       "CentralAir_Y           0.212664\n",
       "OverallQual_8          0.199358\n",
       "Neighborhood_NridgHt   0.197141\n",
       "Neighborhood_Somerst   0.172437\n",
       "LandContour_HLS        0.171621\n",
       "SaleCondition_Partial  0.168729\n",
       "TotalBsmtSF            0.152088\n",
       "Neighborhood_ClearCr   0.148911\n",
       "OverallCond_8          0.138917\n",
       "Condition1_Norm        0.138402\n",
       "OverallCond_7          0.126389\n",
       "Functional_Min         0.122584\n",
       "Neighborhood_NoRidge   0.121949"
      ]
     },
     "execution_count": 192,
     "metadata": {},
     "output_type": "execute_result"
    }
   ],
   "source": [
    "# Displaying top 20 contributing variables\n",
    "\n",
    "betas = pd.DataFrame(index = X.columns)\n",
    "\n",
    "betas.rows = X.columns\n",
    "\n",
    "betas['Coeff.'] = lasso.coef_\n",
    "betas[['Coeff.']].sort_values('Coeff.', ascending=False).head(20)"
   ]
  }
 ],
 "metadata": {
  "kernelspec": {
   "display_name": "Python 3",
   "language": "python",
   "name": "python3"
  },
  "language_info": {
   "codemirror_mode": {
    "name": "ipython",
    "version": 3
   },
   "file_extension": ".py",
   "mimetype": "text/x-python",
   "name": "python",
   "nbconvert_exporter": "python",
   "pygments_lexer": "ipython3",
   "version": "3.8.8"
  }
 },
 "nbformat": 4,
 "nbformat_minor": 5
}
